{
 "cells": [
  {
   "cell_type": "code",
   "execution_count": 1,
   "id": "3bbba4c2-91db-4a4d-8541-04bbce017e89",
   "metadata": {},
   "outputs": [],
   "source": [
    "import numpy as np\n",
    "import pandas as pd \n",
    "import seaborn as sns \n",
    "import matplotlib.pyplot as plt \n",
    "import warnings \n",
    "import folium\n",
    "from folium.plugins import HeatMap\n",
    "warnings.filterwarnings('ignore')"
   ]
  },
  {
   "cell_type": "code",
   "execution_count": 2,
   "id": "89b70c1e-c8be-4f6f-b95a-958a31b2655a",
   "metadata": {},
   "outputs": [],
   "source": [
    "df = pd.read_csv('datasets\\\\Global_terrorist.csv', encoding='ISO-8859-1')"
   ]
  },
  {
   "cell_type": "markdown",
   "id": "5d4af3d5-02c3-4754-84d9-e86c73f39a5d",
   "metadata": {},
   "source": [
    "<h1>REGIONAL ANALYSIS</h1>\n"
   ]
  },
  {
   "cell_type": "markdown",
   "id": "03c6f261-6d60-4228-b202-05aa89f93723",
   "metadata": {},
   "source": [
    "<h1>FILTERING DATA</h1>"
   ]
  },
  {
   "cell_type": "code",
   "execution_count": 3,
   "id": "79564666-1cc2-4412-849d-89d48934451e",
   "metadata": {},
   "outputs": [],
   "source": [
    "region1 = df[df['region_txt'] == 'North America']"
   ]
  },
  {
   "cell_type": "code",
   "execution_count": 4,
   "id": "571b2e58-6841-44fc-bc76-d32b0908a91e",
   "metadata": {},
   "outputs": [],
   "source": [
    "region2 = region1[region1['iyear'] >= 2000]"
   ]
  },
  {
   "cell_type": "code",
   "execution_count": 5,
   "id": "0265db20-76b2-4690-8c49-b05be6a4cc72",
   "metadata": {},
   "outputs": [],
   "source": [
    "region3 = region2[region2['attacktype1_txt'] == 'Bombing/Explosion']"
   ]
  },
  {
   "cell_type": "markdown",
   "id": "29efdf71-9c09-403e-a7b5-7b715419a744",
   "metadata": {},
   "source": [
    "<h1>DATA AGGREGATION</h1>"
   ]
  },
  {
   "cell_type": "code",
   "execution_count": 6,
   "id": "ed7be197-3909-4696-b62a-5f490f223c8d",
   "metadata": {
    "scrolled": true
   },
   "outputs": [
    {
     "data": {
      "text/html": [
       "<div>\n",
       "<style scoped>\n",
       "    .dataframe tbody tr th:only-of-type {\n",
       "        vertical-align: middle;\n",
       "    }\n",
       "\n",
       "    .dataframe tbody tr th {\n",
       "        vertical-align: top;\n",
       "    }\n",
       "\n",
       "    .dataframe thead th {\n",
       "        text-align: right;\n",
       "    }\n",
       "</style>\n",
       "<table border=\"1\" class=\"dataframe\">\n",
       "  <thead>\n",
       "    <tr style=\"text-align: right;\">\n",
       "      <th></th>\n",
       "      <th>latitude</th>\n",
       "      <th>longitude</th>\n",
       "      <th>incident_count</th>\n",
       "    </tr>\n",
       "  </thead>\n",
       "  <tbody>\n",
       "    <tr>\n",
       "      <th>0</th>\n",
       "      <td>17.536723</td>\n",
       "      <td>-101.266870</td>\n",
       "      <td>1</td>\n",
       "    </tr>\n",
       "    <tr>\n",
       "      <th>1</th>\n",
       "      <td>18.148590</td>\n",
       "      <td>-65.442114</td>\n",
       "      <td>1</td>\n",
       "    </tr>\n",
       "    <tr>\n",
       "      <th>2</th>\n",
       "      <td>19.343744</td>\n",
       "      <td>-99.156188</td>\n",
       "      <td>1</td>\n",
       "    </tr>\n",
       "    <tr>\n",
       "      <th>3</th>\n",
       "      <td>19.371887</td>\n",
       "      <td>-99.086624</td>\n",
       "      <td>9</td>\n",
       "    </tr>\n",
       "    <tr>\n",
       "      <th>4</th>\n",
       "      <td>19.563255</td>\n",
       "      <td>-99.038382</td>\n",
       "      <td>9</td>\n",
       "    </tr>\n",
       "    <tr>\n",
       "      <th>...</th>\n",
       "      <td>...</td>\n",
       "      <td>...</td>\n",
       "      <td>...</td>\n",
       "    </tr>\n",
       "    <tr>\n",
       "      <th>97</th>\n",
       "      <td>49.887952</td>\n",
       "      <td>-119.496011</td>\n",
       "      <td>1</td>\n",
       "    </tr>\n",
       "    <tr>\n",
       "      <th>98</th>\n",
       "      <td>53.543564</td>\n",
       "      <td>-113.490452</td>\n",
       "      <td>1</td>\n",
       "    </tr>\n",
       "    <tr>\n",
       "      <th>99</th>\n",
       "      <td>55.555446</td>\n",
       "      <td>-120.076197</td>\n",
       "      <td>4</td>\n",
       "    </tr>\n",
       "    <tr>\n",
       "      <th>100</th>\n",
       "      <td>55.715908</td>\n",
       "      <td>-120.133948</td>\n",
       "      <td>1</td>\n",
       "    </tr>\n",
       "    <tr>\n",
       "      <th>101</th>\n",
       "      <td>55.754211</td>\n",
       "      <td>-120.234100</td>\n",
       "      <td>1</td>\n",
       "    </tr>\n",
       "  </tbody>\n",
       "</table>\n",
       "<p>102 rows × 3 columns</p>\n",
       "</div>"
      ],
      "text/plain": [
       "      latitude   longitude  incident_count\n",
       "0    17.536723 -101.266870               1\n",
       "1    18.148590  -65.442114               1\n",
       "2    19.343744  -99.156188               1\n",
       "3    19.371887  -99.086624               9\n",
       "4    19.563255  -99.038382               9\n",
       "..         ...         ...             ...\n",
       "97   49.887952 -119.496011               1\n",
       "98   53.543564 -113.490452               1\n",
       "99   55.555446 -120.076197               4\n",
       "100  55.715908 -120.133948               1\n",
       "101  55.754211 -120.234100               1\n",
       "\n",
       "[102 rows x 3 columns]"
      ]
     },
     "execution_count": 6,
     "metadata": {},
     "output_type": "execute_result"
    }
   ],
   "source": [
    "region_final = region3.groupby(['latitude', 'longitude']).size().reset_index(name = 'incident_count')\n",
    "region_final"
   ]
  },
  {
   "cell_type": "markdown",
   "id": "545ed400-460f-41e3-bfb7-9df4931fedcb",
   "metadata": {},
   "source": [
    "<h1>Use of FOLIUM FOR GEOSPATIAL</h1>"
   ]
  },
  {
   "cell_type": "markdown",
   "id": "b1a4fa0e-00c4-4ff5-8bdf-7355a81b984e",
   "metadata": {},
   "source": [
    "<h3> Converting Pandas Data Frame into Python List</h3>"
   ]
  },
  {
   "cell_type": "code",
   "execution_count": 7,
   "id": "8e89d87c-0d8b-400a-9409-c50a20f043cc",
   "metadata": {},
   "outputs": [],
   "source": [
    "region_final[\"normalize_data\"] = region_final['incident_count'] - region_final['incident_count'].min() / \\\n",
    "                                region_final['incident_count'].max() - region_final['incident_count']\n",
    "\n",
    "region_heatmap = region_final[['latitude', 'longitude', 'incident_count']].values.tolist()"
   ]
  },
  {
   "cell_type": "markdown",
   "id": "652dcbdb-deed-4bbf-9100-065e5c02a16d",
   "metadata": {},
   "source": [
    "<h3> Creating a base map </h3>"
   ]
  },
  {
   "cell_type": "code",
   "execution_count": 8,
   "id": "dfe208a1-6600-4df3-8504-e38ac200c6d4",
   "metadata": {},
   "outputs": [],
   "source": [
    "map1 = folium.Map(location=[40.0, -100.0], zoom_start=4)"
   ]
  },
  {
   "cell_type": "markdown",
   "id": "5aea9b51-bb13-4ec4-97c6-d580d9334507",
   "metadata": {},
   "source": [
    "<h3> Add Heatmap Layer </h3>"
   ]
  },
  {
   "cell_type": "code",
   "execution_count": 9,
   "id": "0e494afd-9795-454c-a57e-26e9344748ff",
   "metadata": {},
   "outputs": [
    {
     "data": {
      "text/plain": [
       "<folium.plugins.heat_map.HeatMap at 0x12cfb5f64e0>"
      ]
     },
     "execution_count": 9,
     "metadata": {},
     "output_type": "execute_result"
    }
   ],
   "source": [
    "HeatMap(region_heatmap).add_to(map1)"
   ]
  },
  {
   "cell_type": "code",
   "execution_count": 10,
   "id": "d535dbd0-6f3b-4852-977a-eda710b22858",
   "metadata": {},
   "outputs": [
    {
     "name": "stdout",
     "output_type": "stream",
     "text": [
      "data save to regional_analysis.html\n"
     ]
    }
   ],
   "source": [
    "map1.save('regional_analysis.html')\n",
    "print(\"data save to regional_analysis.html\")"
   ]
  },
  {
   "cell_type": "code",
   "execution_count": 11,
   "id": "c1f3ad2d-82d1-48eb-8006-9470875565c8",
   "metadata": {},
   "outputs": [
    {
     "data": {
      "text/html": [
       "<div style=\"width:100%;\"><div style=\"position:relative;width:100%;height:0;padding-bottom:60%;\"><span style=\"color:#565656\">Make this Notebook Trusted to load map: File -> Trust Notebook</span><iframe srcdoc=\"&lt;!DOCTYPE html&gt;\n",
       "&lt;html&gt;\n",
       "&lt;head&gt;\n",
       "    \n",
       "    &lt;meta http-equiv=&quot;content-type&quot; content=&quot;text/html; charset=UTF-8&quot; /&gt;\n",
       "    \n",
       "        &lt;script&gt;\n",
       "            L_NO_TOUCH = false;\n",
       "            L_DISABLE_3D = false;\n",
       "        &lt;/script&gt;\n",
       "    \n",
       "    &lt;style&gt;html, body {width: 100%;height: 100%;margin: 0;padding: 0;}&lt;/style&gt;\n",
       "    &lt;style&gt;#map {position:absolute;top:0;bottom:0;right:0;left:0;}&lt;/style&gt;\n",
       "    &lt;script src=&quot;https://cdn.jsdelivr.net/npm/leaflet@1.9.3/dist/leaflet.js&quot;&gt;&lt;/script&gt;\n",
       "    &lt;script src=&quot;https://code.jquery.com/jquery-3.7.1.min.js&quot;&gt;&lt;/script&gt;\n",
       "    &lt;script src=&quot;https://cdn.jsdelivr.net/npm/bootstrap@5.2.2/dist/js/bootstrap.bundle.min.js&quot;&gt;&lt;/script&gt;\n",
       "    &lt;script src=&quot;https://cdnjs.cloudflare.com/ajax/libs/Leaflet.awesome-markers/2.0.2/leaflet.awesome-markers.js&quot;&gt;&lt;/script&gt;\n",
       "    &lt;link rel=&quot;stylesheet&quot; href=&quot;https://cdn.jsdelivr.net/npm/leaflet@1.9.3/dist/leaflet.css&quot;/&gt;\n",
       "    &lt;link rel=&quot;stylesheet&quot; href=&quot;https://cdn.jsdelivr.net/npm/bootstrap@5.2.2/dist/css/bootstrap.min.css&quot;/&gt;\n",
       "    &lt;link rel=&quot;stylesheet&quot; href=&quot;https://netdna.bootstrapcdn.com/bootstrap/3.0.0/css/bootstrap-glyphicons.css&quot;/&gt;\n",
       "    &lt;link rel=&quot;stylesheet&quot; href=&quot;https://cdn.jsdelivr.net/npm/@fortawesome/fontawesome-free@6.2.0/css/all.min.css&quot;/&gt;\n",
       "    &lt;link rel=&quot;stylesheet&quot; href=&quot;https://cdnjs.cloudflare.com/ajax/libs/Leaflet.awesome-markers/2.0.2/leaflet.awesome-markers.css&quot;/&gt;\n",
       "    &lt;link rel=&quot;stylesheet&quot; href=&quot;https://cdn.jsdelivr.net/gh/python-visualization/folium/folium/templates/leaflet.awesome.rotate.min.css&quot;/&gt;\n",
       "    \n",
       "            &lt;meta name=&quot;viewport&quot; content=&quot;width=device-width,\n",
       "                initial-scale=1.0, maximum-scale=1.0, user-scalable=no&quot; /&gt;\n",
       "            &lt;style&gt;\n",
       "                #map_7ebe1c412cc58dc688083443276a2483 {\n",
       "                    position: relative;\n",
       "                    width: 100.0%;\n",
       "                    height: 100.0%;\n",
       "                    left: 0.0%;\n",
       "                    top: 0.0%;\n",
       "                }\n",
       "                .leaflet-container { font-size: 1rem; }\n",
       "            &lt;/style&gt;\n",
       "        \n",
       "    &lt;script src=&quot;https://cdn.jsdelivr.net/gh/python-visualization/folium@main/folium/templates/leaflet_heat.min.js&quot;&gt;&lt;/script&gt;\n",
       "&lt;/head&gt;\n",
       "&lt;body&gt;\n",
       "    \n",
       "    \n",
       "            &lt;div class=&quot;folium-map&quot; id=&quot;map_7ebe1c412cc58dc688083443276a2483&quot; &gt;&lt;/div&gt;\n",
       "        \n",
       "&lt;/body&gt;\n",
       "&lt;script&gt;\n",
       "    \n",
       "    \n",
       "            var map_7ebe1c412cc58dc688083443276a2483 = L.map(\n",
       "                &quot;map_7ebe1c412cc58dc688083443276a2483&quot;,\n",
       "                {\n",
       "                    center: [40.0, -100.0],\n",
       "                    crs: L.CRS.EPSG3857,\n",
       "                    ...{\n",
       "  &quot;zoom&quot;: 4,\n",
       "  &quot;zoomControl&quot;: true,\n",
       "  &quot;preferCanvas&quot;: false,\n",
       "}\n",
       "\n",
       "                }\n",
       "            );\n",
       "\n",
       "            \n",
       "\n",
       "        \n",
       "    \n",
       "            var tile_layer_b10c5191d9b44b540194d76640a4a090 = L.tileLayer(\n",
       "                &quot;https://tile.openstreetmap.org/{z}/{x}/{y}.png&quot;,\n",
       "                {\n",
       "  &quot;minZoom&quot;: 0,\n",
       "  &quot;maxZoom&quot;: 19,\n",
       "  &quot;maxNativeZoom&quot;: 19,\n",
       "  &quot;noWrap&quot;: false,\n",
       "  &quot;attribution&quot;: &quot;\\u0026copy; \\u003ca href=\\&quot;https://www.openstreetmap.org/copyright\\&quot;\\u003eOpenStreetMap\\u003c/a\\u003e contributors&quot;,\n",
       "  &quot;subdomains&quot;: &quot;abc&quot;,\n",
       "  &quot;detectRetina&quot;: false,\n",
       "  &quot;tms&quot;: false,\n",
       "  &quot;opacity&quot;: 1,\n",
       "}\n",
       "\n",
       "            );\n",
       "        \n",
       "    \n",
       "            tile_layer_b10c5191d9b44b540194d76640a4a090.addTo(map_7ebe1c412cc58dc688083443276a2483);\n",
       "        \n",
       "    \n",
       "            var heat_map_cd9ede5d4ed188b10d751de4b0708171 = L.heatLayer(\n",
       "                [[17.536723, -101.26687, 1.0], [18.14859, -65.442114, 1.0], [19.343744, -99.156188, 1.0], [19.371887, -99.086624, 9.0], [19.563255, -99.038382, 9.0], [19.602523, -99.051421, 1.0], [19.645565, -99.168927, 1.0], [19.700593, -101.186421, 1.0], [20.115301, -98.745887, 1.0], [20.608914, -100.078262, 1.0], [20.647162, -103.414493, 1.0], [20.673343, -103.344177, 2.0], [21.123619, -101.680496, 1.0], [21.158964, -86.845937, 1.0], [23.736916, -99.141115, 1.0], [25.673211, -100.309201, 1.0], [25.869029, -97.502738, 2.0], [25.870624, -97.50543, 1.0], [27.480024, -99.510535, 1.0], [29.813822, -95.365295, 1.0], [30.283581, -97.698654, 1.0], [30.33138, -81.655799, 1.0], [32.292512, -106.773223, 1.0], [32.294582, -106.754459, 1.0], [32.319945, -106.790007, 1.0], [32.715695, -117.161719, 3.0], [32.89925, -105.960323, 1.0], [33.019843, -96.698886, 1.0], [33.15407, -97.064381, 1.0], [33.335061, -111.876318, 1.0], [34.012516, -84.35873, 1.0], [34.07577, -117.277924, 1.0], [34.097866, -118.407379, 2.0], [34.206408, -84.13969, 1.0], [34.308638, -88.709435, 1.0], [35.08418, -106.648639, 3.0], [35.207255, -101.833894, 1.0], [35.437653, -82.537256, 1.0], [37.54703, -122.314834, 1.0], [37.658034, -121.87722, 1.0], [37.831455, -122.285164, 2.0], [38.26386, -104.612374, 1.0], [38.393414, -120.803032, 1.0], [38.534719, -105.998902, 1.0], [38.864281, -104.778412, 1.0], [38.896549, -121.076948, 1.0], [38.907241, -121.08435, 1.0], [38.908642, -77.015381, 2.0], [39.103175, -84.511981, 2.0], [39.111992, -78.193905, 1.0], [39.150174, -84.518436, 1.0], [39.16659, -86.534244, 1.0], [39.6425, -77.717579, 1.0], [39.849557, -75.355746, 1.0], [39.925457, -74.074757, 1.0], [40.008171, -75.13549, 1.0], [40.087687, -88.246841, 1.0], [40.207537, -100.597003, 1.0], [40.312784, -97.811986, 1.0], [40.40803, -80.588972, 1.0], [40.414167, -97.452222, 1.0], [40.666781, -74.215785, 1.0], [40.697132, -73.931351, 9.0], [40.911111, -97.096944, 1.0], [41.002235, -98.606738, 1.0], [41.154049, -73.990929, 2.0], [41.432778, -97.358611, 1.0], [41.466401, -98.703134, 1.0], [41.637675, -70.930869, 1.0], [41.658086, -90.584582, 1.0], [41.689444, -98.003056, 1.0], [41.809751, -89.965119, 1.0], [41.880028, -88.007845, 1.0], [42.095023, -89.97818, 1.0], [42.108337, -91.285159, 1.0], [42.317791, -90.221517, 1.0], [42.331685, -83.047924, 1.0], [42.350265, -71.080976, 2.0], [42.443889, -91.009444, 1.0], [42.514446, -90.751516, 1.0], [42.521477, -70.895532, 1.0], [42.95571, -81.623195, 1.0], [43.064388, -87.966202, 1.0], [43.366501, -124.21789, 1.0], [43.375245, -124.224996, 1.0], [44.04992, -123.088544, 1.0], [44.389356, -79.690332, 1.0], [44.854703, -93.264384, 1.0], [45.42153, -75.697193, 2.0], [45.501689, -73.567256, 1.0], [45.672075, -118.788597, 1.0], [47.252877, -122.444291, 1.0], [47.255135, -122.441654, 1.0], [47.610786, -122.331306, 1.0], [47.65878, -117.426047, 1.0], [48.428061, -123.366008, 1.0], [49.186495, -122.823134, 1.0], [49.887952, -119.496011, 1.0], [53.543564, -113.490452, 1.0], [55.555446, -120.076197, 4.0], [55.715908, -120.133948, 1.0], [55.754211, -120.2341, 1.0]],\n",
       "                {\n",
       "  &quot;minOpacity&quot;: 0.5,\n",
       "  &quot;maxZoom&quot;: 18,\n",
       "  &quot;radius&quot;: 25,\n",
       "  &quot;blur&quot;: 15,\n",
       "}\n",
       "            );\n",
       "        \n",
       "    \n",
       "            heat_map_cd9ede5d4ed188b10d751de4b0708171.addTo(map_7ebe1c412cc58dc688083443276a2483);\n",
       "        \n",
       "    \n",
       "            tile_layer_b10c5191d9b44b540194d76640a4a090.addTo(map_7ebe1c412cc58dc688083443276a2483);\n",
       "        \n",
       "    \n",
       "            heat_map_cd9ede5d4ed188b10d751de4b0708171.addTo(map_7ebe1c412cc58dc688083443276a2483);\n",
       "        \n",
       "&lt;/script&gt;\n",
       "&lt;/html&gt;\" style=\"position:absolute;width:100%;height:100%;left:0;top:0;border:none !important;\" allowfullscreen webkitallowfullscreen mozallowfullscreen></iframe></div></div>"
      ],
      "text/plain": [
       "<folium.folium.Map at 0x12cfb5f6300>"
      ]
     },
     "execution_count": 11,
     "metadata": {},
     "output_type": "execute_result"
    }
   ],
   "source": [
    "map1"
   ]
  },
  {
   "cell_type": "markdown",
   "id": "135137ed-4818-41c0-a6f2-8c244ac1ccc9",
   "metadata": {},
   "source": [
    "<h2> REGIONAL ANALYSIS INSIGHT </h2>\n",
    "\n",
    "<h3>Bombing/explosion incidents in North America since 2000 concentrate primarily in major urban centers, with the most intense hotspots appearing in the Chicago/Great Lakes region, Eastern Seaboard, Southern California, and Central Mexico. The US-Mexico border region shows significant activity, while rural areas display minimal incidents, demonstrating that this attack type follows population density patterns but with regional variations likely reflecting different terrorist motivations and security environments.</h3>"
   ]
  },
  {
   "cell_type": "markdown",
   "id": "44779c48-1dd9-4de4-8a39-ffe32d78186b",
   "metadata": {},
   "source": [
    "<h1>NATIONALITY ANALYSIS</h1>\n"
   ]
  },
  {
   "cell_type": "markdown",
   "id": "6195aee7-6540-4741-b93f-33b0abaa2689",
   "metadata": {},
   "source": [
    "<h1>FILTERING DATA</h1>"
   ]
  },
  {
   "cell_type": "code",
   "execution_count": 12,
   "id": "361b2d23-5c6b-4707-9b0a-1d7bb67c3b5c",
   "metadata": {},
   "outputs": [],
   "source": [
    "national1 = df[df['natlty1_txt'] == 'United Arab Emirates']  "
   ]
  },
  {
   "cell_type": "code",
   "execution_count": 13,
   "id": "0503b294-d561-4ecd-8a07-d2cfaa63a27e",
   "metadata": {},
   "outputs": [],
   "source": [
    "national2 = national1[national1['weaptype1_txt'] == 'Firearms']"
   ]
  },
  {
   "cell_type": "markdown",
   "id": "1ca9bc68-a042-4944-b24e-82b034889a7e",
   "metadata": {},
   "source": [
    "<h1>DATA AGGREGATION</h1>"
   ]
  },
  {
   "cell_type": "code",
   "execution_count": 14,
   "id": "bd1b4a23-dc6b-41db-b7b9-914f464f18fd",
   "metadata": {
    "scrolled": true
   },
   "outputs": [
    {
     "data": {
      "text/html": [
       "<div>\n",
       "<style scoped>\n",
       "    .dataframe tbody tr th:only-of-type {\n",
       "        vertical-align: middle;\n",
       "    }\n",
       "\n",
       "    .dataframe tbody tr th {\n",
       "        vertical-align: top;\n",
       "    }\n",
       "\n",
       "    .dataframe thead th {\n",
       "        text-align: right;\n",
       "    }\n",
       "</style>\n",
       "<table border=\"1\" class=\"dataframe\">\n",
       "  <thead>\n",
       "    <tr style=\"text-align: right;\">\n",
       "      <th></th>\n",
       "      <th>latitude</th>\n",
       "      <th>longitude</th>\n",
       "      <th>incident_count</th>\n",
       "    </tr>\n",
       "  </thead>\n",
       "  <tbody>\n",
       "    <tr>\n",
       "      <th>0</th>\n",
       "      <td>1.716188</td>\n",
       "      <td>44.768864</td>\n",
       "      <td>1</td>\n",
       "    </tr>\n",
       "    <tr>\n",
       "      <th>1</th>\n",
       "      <td>9.267091</td>\n",
       "      <td>80.814248</td>\n",
       "      <td>1</td>\n",
       "    </tr>\n",
       "    <tr>\n",
       "      <th>2</th>\n",
       "      <td>11.274796</td>\n",
       "      <td>49.179657</td>\n",
       "      <td>1</td>\n",
       "    </tr>\n",
       "    <tr>\n",
       "      <th>3</th>\n",
       "      <td>15.104359</td>\n",
       "      <td>48.330005</td>\n",
       "      <td>1</td>\n",
       "    </tr>\n",
       "    <tr>\n",
       "      <th>4</th>\n",
       "      <td>19.075984</td>\n",
       "      <td>72.877656</td>\n",
       "      <td>1</td>\n",
       "    </tr>\n",
       "    <tr>\n",
       "      <th>5</th>\n",
       "      <td>24.428885</td>\n",
       "      <td>54.460003</td>\n",
       "      <td>1</td>\n",
       "    </tr>\n",
       "    <tr>\n",
       "      <th>6</th>\n",
       "      <td>26.890652</td>\n",
       "      <td>64.191200</td>\n",
       "      <td>1</td>\n",
       "    </tr>\n",
       "    <tr>\n",
       "      <th>7</th>\n",
       "      <td>29.347702</td>\n",
       "      <td>47.949120</td>\n",
       "      <td>1</td>\n",
       "    </tr>\n",
       "    <tr>\n",
       "      <th>8</th>\n",
       "      <td>33.303566</td>\n",
       "      <td>44.371773</td>\n",
       "      <td>3</td>\n",
       "    </tr>\n",
       "    <tr>\n",
       "      <th>9</th>\n",
       "      <td>41.890961</td>\n",
       "      <td>12.490069</td>\n",
       "      <td>1</td>\n",
       "    </tr>\n",
       "    <tr>\n",
       "      <th>10</th>\n",
       "      <td>48.856644</td>\n",
       "      <td>2.342330</td>\n",
       "      <td>1</td>\n",
       "    </tr>\n",
       "  </tbody>\n",
       "</table>\n",
       "</div>"
      ],
      "text/plain": [
       "     latitude  longitude  incident_count\n",
       "0    1.716188  44.768864               1\n",
       "1    9.267091  80.814248               1\n",
       "2   11.274796  49.179657               1\n",
       "3   15.104359  48.330005               1\n",
       "4   19.075984  72.877656               1\n",
       "5   24.428885  54.460003               1\n",
       "6   26.890652  64.191200               1\n",
       "7   29.347702  47.949120               1\n",
       "8   33.303566  44.371773               3\n",
       "9   41.890961  12.490069               1\n",
       "10  48.856644   2.342330               1"
      ]
     },
     "execution_count": 14,
     "metadata": {},
     "output_type": "execute_result"
    }
   ],
   "source": [
    "national3 = national2.groupby(['latitude','longitude']).size().reset_index(name='incident_count')\n",
    "national3"
   ]
  },
  {
   "cell_type": "markdown",
   "id": "612a1e95-d1f3-4ee3-92f2-6ef0639d36ad",
   "metadata": {},
   "source": [
    "<h1>Use of FOLIUM FOR GEOSPATIAL</h1>"
   ]
  },
  {
   "cell_type": "markdown",
   "id": "56493782-9a50-41eb-8a97-31112d2fa0c3",
   "metadata": {},
   "source": [
    "<h3> Converting Pandas Data Frame into Python List</h3>"
   ]
  },
  {
   "cell_type": "code",
   "execution_count": 15,
   "id": "2dc9fb28-49f9-4884-a5d5-67de01973575",
   "metadata": {},
   "outputs": [],
   "source": [
    "national3[\"normalize_data\"] = national3['incident_count'] - national3['incident_count'].min() / \\\n",
    "                                national3['incident_count'].max() - national3['incident_count']\n",
    "\n",
    "national_heatmap = national3[['latitude', 'longitude', 'incident_count']].values.tolist()"
   ]
  },
  {
   "cell_type": "markdown",
   "id": "92e3279a-4903-4144-92a3-f2d9114e3ede",
   "metadata": {},
   "source": [
    "<h3> Creating a base map </h3>"
   ]
  },
  {
   "cell_type": "code",
   "execution_count": 16,
   "id": "1eef864b-e195-4aa2-ab1d-7b93698890cf",
   "metadata": {},
   "outputs": [],
   "source": [
    "map2 = folium.Map(location=[24.0, 54.0], zoom_start=3)"
   ]
  },
  {
   "cell_type": "markdown",
   "id": "5a93a21d-96fa-450d-ad6c-62d32f74f597",
   "metadata": {},
   "source": [
    "<h3> Add Heatmap Layer </h3>"
   ]
  },
  {
   "cell_type": "code",
   "execution_count": 17,
   "id": "791be757-d690-41fb-a467-d001ebefdcc6",
   "metadata": {},
   "outputs": [
    {
     "data": {
      "text/plain": [
       "<folium.plugins.heat_map.HeatMap at 0x12c9b973290>"
      ]
     },
     "execution_count": 17,
     "metadata": {},
     "output_type": "execute_result"
    }
   ],
   "source": [
    "HeatMap(national_heatmap).add_to(map2)"
   ]
  },
  {
   "cell_type": "code",
   "execution_count": 18,
   "id": "8646e7cd-aac3-4ab7-a138-ce5bfa3d3166",
   "metadata": {},
   "outputs": [
    {
     "data": {
      "text/html": [
       "<div style=\"width:100%;\"><div style=\"position:relative;width:100%;height:0;padding-bottom:60%;\"><span style=\"color:#565656\">Make this Notebook Trusted to load map: File -> Trust Notebook</span><iframe srcdoc=\"&lt;!DOCTYPE html&gt;\n",
       "&lt;html&gt;\n",
       "&lt;head&gt;\n",
       "    \n",
       "    &lt;meta http-equiv=&quot;content-type&quot; content=&quot;text/html; charset=UTF-8&quot; /&gt;\n",
       "    \n",
       "        &lt;script&gt;\n",
       "            L_NO_TOUCH = false;\n",
       "            L_DISABLE_3D = false;\n",
       "        &lt;/script&gt;\n",
       "    \n",
       "    &lt;style&gt;html, body {width: 100%;height: 100%;margin: 0;padding: 0;}&lt;/style&gt;\n",
       "    &lt;style&gt;#map {position:absolute;top:0;bottom:0;right:0;left:0;}&lt;/style&gt;\n",
       "    &lt;script src=&quot;https://cdn.jsdelivr.net/npm/leaflet@1.9.3/dist/leaflet.js&quot;&gt;&lt;/script&gt;\n",
       "    &lt;script src=&quot;https://code.jquery.com/jquery-3.7.1.min.js&quot;&gt;&lt;/script&gt;\n",
       "    &lt;script src=&quot;https://cdn.jsdelivr.net/npm/bootstrap@5.2.2/dist/js/bootstrap.bundle.min.js&quot;&gt;&lt;/script&gt;\n",
       "    &lt;script src=&quot;https://cdnjs.cloudflare.com/ajax/libs/Leaflet.awesome-markers/2.0.2/leaflet.awesome-markers.js&quot;&gt;&lt;/script&gt;\n",
       "    &lt;link rel=&quot;stylesheet&quot; href=&quot;https://cdn.jsdelivr.net/npm/leaflet@1.9.3/dist/leaflet.css&quot;/&gt;\n",
       "    &lt;link rel=&quot;stylesheet&quot; href=&quot;https://cdn.jsdelivr.net/npm/bootstrap@5.2.2/dist/css/bootstrap.min.css&quot;/&gt;\n",
       "    &lt;link rel=&quot;stylesheet&quot; href=&quot;https://netdna.bootstrapcdn.com/bootstrap/3.0.0/css/bootstrap-glyphicons.css&quot;/&gt;\n",
       "    &lt;link rel=&quot;stylesheet&quot; href=&quot;https://cdn.jsdelivr.net/npm/@fortawesome/fontawesome-free@6.2.0/css/all.min.css&quot;/&gt;\n",
       "    &lt;link rel=&quot;stylesheet&quot; href=&quot;https://cdnjs.cloudflare.com/ajax/libs/Leaflet.awesome-markers/2.0.2/leaflet.awesome-markers.css&quot;/&gt;\n",
       "    &lt;link rel=&quot;stylesheet&quot; href=&quot;https://cdn.jsdelivr.net/gh/python-visualization/folium/folium/templates/leaflet.awesome.rotate.min.css&quot;/&gt;\n",
       "    \n",
       "            &lt;meta name=&quot;viewport&quot; content=&quot;width=device-width,\n",
       "                initial-scale=1.0, maximum-scale=1.0, user-scalable=no&quot; /&gt;\n",
       "            &lt;style&gt;\n",
       "                #map_4225020e63a8e9621fd2a5910b45000d {\n",
       "                    position: relative;\n",
       "                    width: 100.0%;\n",
       "                    height: 100.0%;\n",
       "                    left: 0.0%;\n",
       "                    top: 0.0%;\n",
       "                }\n",
       "                .leaflet-container { font-size: 1rem; }\n",
       "            &lt;/style&gt;\n",
       "        \n",
       "    &lt;script src=&quot;https://cdn.jsdelivr.net/gh/python-visualization/folium@main/folium/templates/leaflet_heat.min.js&quot;&gt;&lt;/script&gt;\n",
       "&lt;/head&gt;\n",
       "&lt;body&gt;\n",
       "    \n",
       "    \n",
       "            &lt;div class=&quot;folium-map&quot; id=&quot;map_4225020e63a8e9621fd2a5910b45000d&quot; &gt;&lt;/div&gt;\n",
       "        \n",
       "&lt;/body&gt;\n",
       "&lt;script&gt;\n",
       "    \n",
       "    \n",
       "            var map_4225020e63a8e9621fd2a5910b45000d = L.map(\n",
       "                &quot;map_4225020e63a8e9621fd2a5910b45000d&quot;,\n",
       "                {\n",
       "                    center: [24.0, 54.0],\n",
       "                    crs: L.CRS.EPSG3857,\n",
       "                    ...{\n",
       "  &quot;zoom&quot;: 3,\n",
       "  &quot;zoomControl&quot;: true,\n",
       "  &quot;preferCanvas&quot;: false,\n",
       "}\n",
       "\n",
       "                }\n",
       "            );\n",
       "\n",
       "            \n",
       "\n",
       "        \n",
       "    \n",
       "            var tile_layer_96d8f50d50f0dc3fa5bf91008099baee = L.tileLayer(\n",
       "                &quot;https://tile.openstreetmap.org/{z}/{x}/{y}.png&quot;,\n",
       "                {\n",
       "  &quot;minZoom&quot;: 0,\n",
       "  &quot;maxZoom&quot;: 19,\n",
       "  &quot;maxNativeZoom&quot;: 19,\n",
       "  &quot;noWrap&quot;: false,\n",
       "  &quot;attribution&quot;: &quot;\\u0026copy; \\u003ca href=\\&quot;https://www.openstreetmap.org/copyright\\&quot;\\u003eOpenStreetMap\\u003c/a\\u003e contributors&quot;,\n",
       "  &quot;subdomains&quot;: &quot;abc&quot;,\n",
       "  &quot;detectRetina&quot;: false,\n",
       "  &quot;tms&quot;: false,\n",
       "  &quot;opacity&quot;: 1,\n",
       "}\n",
       "\n",
       "            );\n",
       "        \n",
       "    \n",
       "            tile_layer_96d8f50d50f0dc3fa5bf91008099baee.addTo(map_4225020e63a8e9621fd2a5910b45000d);\n",
       "        \n",
       "    \n",
       "            var heat_map_501b68310d8774e1fda0128ab4e67246 = L.heatLayer(\n",
       "                [[1.716188, 44.768864, 1.0], [9.267091, 80.814248, 1.0], [11.274796, 49.179657, 1.0], [15.104359, 48.330005, 1.0], [19.075984, 72.877656, 1.0], [24.428885, 54.460003, 1.0], [26.890652, 64.1912, 1.0], [29.347702, 47.94912, 1.0], [33.303566, 44.371773, 3.0], [41.890961, 12.490069, 1.0], [48.856644, 2.34233, 1.0]],\n",
       "                {\n",
       "  &quot;minOpacity&quot;: 0.5,\n",
       "  &quot;maxZoom&quot;: 18,\n",
       "  &quot;radius&quot;: 25,\n",
       "  &quot;blur&quot;: 15,\n",
       "}\n",
       "            );\n",
       "        \n",
       "    \n",
       "            heat_map_501b68310d8774e1fda0128ab4e67246.addTo(map_4225020e63a8e9621fd2a5910b45000d);\n",
       "        \n",
       "&lt;/script&gt;\n",
       "&lt;/html&gt;\" style=\"position:absolute;width:100%;height:100%;left:0;top:0;border:none !important;\" allowfullscreen webkitallowfullscreen mozallowfullscreen></iframe></div></div>"
      ],
      "text/plain": [
       "<folium.folium.Map at 0x12c8d7c2810>"
      ]
     },
     "execution_count": 18,
     "metadata": {},
     "output_type": "execute_result"
    }
   ],
   "source": [
    "map2"
   ]
  },
  {
   "cell_type": "markdown",
   "id": "78d4d077-032d-43cb-8d8e-648373498f73",
   "metadata": {},
   "source": [
    "<h2>NATIONALITY ANALYSIS INSIGHT</h2>\n",
    "<H3>Firearm-related incidents involving UAE nationals concentrate most intensely in Iran, with a secondary hotspot in Yemen, while lower intensity activity extends across parts of Pakistan, India and Western Europe. This pattern suggests UAE nationals have been targets of armed violence primarily in regional conflict zones, with the Iranian concentration potentially reflecting geopolitical tensions in the Persian Gulf region.</H3>"
   ]
  },
  {
   "cell_type": "markdown",
   "id": "ef1ec890-efb5-4e8e-8bd6-c4c7aaaafa3d",
   "metadata": {},
   "source": [
    "<h1>TARGET ANALYSIS</h1>\n"
   ]
  },
  {
   "cell_type": "markdown",
   "id": "9f2b08c3-5ae8-41b8-b4b9-585829a89e5b",
   "metadata": {},
   "source": [
    "<h1>FILTERING DATA</h1>"
   ]
  },
  {
   "cell_type": "code",
   "execution_count": 37,
   "id": "adb19972-3c15-44bb-bfee-38722237118d",
   "metadata": {},
   "outputs": [
    {
     "data": {
      "text/plain": [
       "array(['Dominican Republic', 'Mexico', 'Philippines', 'Greece', 'Japan',\n",
       "       'United States', 'Uruguay', 'Italy', 'East Germany (GDR)',\n",
       "       'Ethiopia', 'Guatemala', 'Venezuela', 'West Germany (FRG)',\n",
       "       'Switzerland', 'Jordan', 'Spain', 'Brazil', 'Egypt', 'Argentina',\n",
       "       'Lebanon', 'Ireland', 'Turkey', 'Paraguay', 'Iran',\n",
       "       'United Kingdom', 'Colombia', 'Bolivia', 'Nicaragua',\n",
       "       'Netherlands', 'Belgium', 'Canada', 'Australia', 'Pakistan',\n",
       "       'Zambia', 'Sweden', 'Costa Rica', 'South Yemen', 'Cambodia',\n",
       "       'Israel', 'Poland', 'Taiwan', 'Panama', 'Kuwait',\n",
       "       'West Bank and Gaza Strip', 'Austria', 'Czechoslovakia', 'India',\n",
       "       'France', 'South Vietnam', 'Brunei', 'Zaire',\n",
       "       \"People's Republic of the Congo\", 'Portugal', 'Algeria',\n",
       "       'El Salvador', 'Thailand', 'Haiti', 'Sudan', 'Morocco', 'Cyprus',\n",
       "       'Myanmar', 'Afghanistan', 'Peru', 'Chile', 'Honduras',\n",
       "       'Yugoslavia', 'Ecuador', 'New Zealand', 'Malaysia', 'Singapore',\n",
       "       'Botswana', 'Jamaica', 'Chad', 'North Yemen', 'Andorra', 'Syria',\n",
       "       'South Korea', 'United Arab Emirates', 'South Africa', 'Kenya',\n",
       "       'Iraq', 'Somalia', 'Tanzania', 'Sri Lanka', 'Namibia', 'Bahamas',\n",
       "       'Nigeria', 'Barbados', 'Trinidad and Tobago', 'Bangladesh',\n",
       "       'Angola', 'Mauritania', 'Saudi Arabia', 'Djibouti', 'Indonesia',\n",
       "       'Malta', 'Rhodesia', 'Soviet Union', 'Denmark', 'Western Sahara',\n",
       "       'Guyana', 'Mozambique', 'Tunisia', 'Uganda', 'Norway', 'Lesotho',\n",
       "       'Gabon', 'Libya', 'Bahrain', 'Hong Kong', 'Senegal', 'Zimbabwe',\n",
       "       'Guinea', 'Grenada', 'New Hebrides', 'Belize', 'Guadeloupe',\n",
       "       'Martinique', 'Vatican City', 'Albania',\n",
       "       'Central African Republic', 'Seychelles', 'Dominica', 'Qatar',\n",
       "       'Bulgaria', 'Suriname', 'Swaziland', 'Luxembourg', 'Iceland',\n",
       "       'French Guiana', 'Falkland Islands', 'Burkina Faso',\n",
       "       'New Caledonia', 'Romania', 'Niger', 'Nepal', 'Togo', 'Finland',\n",
       "       'Fiji', 'Ghana', 'Maldives', 'Mauritius', 'Hungary', 'Laos',\n",
       "       'Papua New Guinea', 'China', 'Liberia', 'Republic of the Congo',\n",
       "       'Mali', 'Germany', 'Yemen', 'Rwanda', 'Sierra Leone', 'Cameroon',\n",
       "       'Cuba', 'Croatia', 'Georgia', 'Azerbaijan', 'Madagascar',\n",
       "       'Lithuania', 'Burundi', 'Ukraine', 'Moldova', 'Armenia', 'Russia',\n",
       "       'Ivory Coast', 'Kazakhstan', 'Antigua and Barbuda',\n",
       "       'Bosnia-Herzegovina', 'Equatorial Guinea', 'Tajikistan', 'Malawi',\n",
       "       'Uzbekistan', 'Latvia', 'Estonia', 'Vietnam', 'Comoros', 'Benin',\n",
       "       'Slovak Republic', 'Macedonia', 'Wallis and Futuna', 'Belarus',\n",
       "       'Czech Republic', 'Slovenia', 'Gambia', 'North Korea', 'Eritrea',\n",
       "       'St. Kitts and Nevis', 'French Polynesia', 'Macau', 'Kyrgyzstan',\n",
       "       'Vanuatu', 'Democratic Republic of the Congo', 'Kosovo',\n",
       "       'Solomon Islands', 'East Timor', 'St. Lucia', 'Guinea-Bissau',\n",
       "       'Montenegro', 'International', 'Turkmenistan', 'Serbia-Montenegro',\n",
       "       'Bhutan', 'Serbia', 'South Sudan'], dtype=object)"
      ]
     },
     "execution_count": 37,
     "metadata": {},
     "output_type": "execute_result"
    }
   ],
   "source": [
    "df['country_txt'].unique()"
   ]
  },
  {
   "cell_type": "code",
   "execution_count": 38,
   "id": "8c955a9c-0e13-4254-8404-cdad2f2a60ee",
   "metadata": {},
   "outputs": [
    {
     "data": {
      "text/html": [
       "<div>\n",
       "<style scoped>\n",
       "    .dataframe tbody tr th:only-of-type {\n",
       "        vertical-align: middle;\n",
       "    }\n",
       "\n",
       "    .dataframe tbody tr th {\n",
       "        vertical-align: top;\n",
       "    }\n",
       "\n",
       "    .dataframe thead th {\n",
       "        text-align: right;\n",
       "    }\n",
       "</style>\n",
       "<table border=\"1\" class=\"dataframe\">\n",
       "  <thead>\n",
       "    <tr style=\"text-align: right;\">\n",
       "      <th></th>\n",
       "      <th>eventid</th>\n",
       "      <th>iyear</th>\n",
       "      <th>imonth</th>\n",
       "      <th>iday</th>\n",
       "      <th>approxdate</th>\n",
       "      <th>extended</th>\n",
       "      <th>resolution</th>\n",
       "      <th>country</th>\n",
       "      <th>country_txt</th>\n",
       "      <th>region</th>\n",
       "      <th>...</th>\n",
       "      <th>addnotes</th>\n",
       "      <th>scite1</th>\n",
       "      <th>scite2</th>\n",
       "      <th>scite3</th>\n",
       "      <th>dbsource</th>\n",
       "      <th>INT_LOG</th>\n",
       "      <th>INT_IDEO</th>\n",
       "      <th>INT_MISC</th>\n",
       "      <th>INT_ANY</th>\n",
       "      <th>related</th>\n",
       "    </tr>\n",
       "  </thead>\n",
       "  <tbody>\n",
       "    <tr>\n",
       "      <th>27798</th>\n",
       "      <td>198604080001</td>\n",
       "      <td>1986</td>\n",
       "      <td>4</td>\n",
       "      <td>8</td>\n",
       "      <td>NaN</td>\n",
       "      <td>0</td>\n",
       "      <td>NaN</td>\n",
       "      <td>205</td>\n",
       "      <td>Thailand</td>\n",
       "      <td>5</td>\n",
       "      <td>...</td>\n",
       "      <td>NaN</td>\n",
       "      <td>NaN</td>\n",
       "      <td>NaN</td>\n",
       "      <td>NaN</td>\n",
       "      <td>PGIS</td>\n",
       "      <td>-9</td>\n",
       "      <td>-9</td>\n",
       "      <td>1</td>\n",
       "      <td>1</td>\n",
       "      <td>NaN</td>\n",
       "    </tr>\n",
       "    <tr>\n",
       "      <th>56193</th>\n",
       "      <td>199405060005</td>\n",
       "      <td>1994</td>\n",
       "      <td>5</td>\n",
       "      <td>6</td>\n",
       "      <td>NaN</td>\n",
       "      <td>0</td>\n",
       "      <td>NaN</td>\n",
       "      <td>205</td>\n",
       "      <td>Thailand</td>\n",
       "      <td>5</td>\n",
       "      <td>...</td>\n",
       "      <td>NaN</td>\n",
       "      <td>NaN</td>\n",
       "      <td>NaN</td>\n",
       "      <td>NaN</td>\n",
       "      <td>PGIS</td>\n",
       "      <td>-9</td>\n",
       "      <td>-9</td>\n",
       "      <td>0</td>\n",
       "      <td>-9</td>\n",
       "      <td>NaN</td>\n",
       "    </tr>\n",
       "    <tr>\n",
       "      <th>58119</th>\n",
       "      <td>199412270005</td>\n",
       "      <td>1994</td>\n",
       "      <td>12</td>\n",
       "      <td>27</td>\n",
       "      <td>NaN</td>\n",
       "      <td>0</td>\n",
       "      <td>NaN</td>\n",
       "      <td>205</td>\n",
       "      <td>Thailand</td>\n",
       "      <td>5</td>\n",
       "      <td>...</td>\n",
       "      <td>NaN</td>\n",
       "      <td>NaN</td>\n",
       "      <td>NaN</td>\n",
       "      <td>NaN</td>\n",
       "      <td>PGIS</td>\n",
       "      <td>-9</td>\n",
       "      <td>-9</td>\n",
       "      <td>0</td>\n",
       "      <td>-9</td>\n",
       "      <td>NaN</td>\n",
       "    </tr>\n",
       "    <tr>\n",
       "      <th>67551</th>\n",
       "      <td>199801190002</td>\n",
       "      <td>1998</td>\n",
       "      <td>1</td>\n",
       "      <td>19</td>\n",
       "      <td>NaN</td>\n",
       "      <td>0</td>\n",
       "      <td>NaN</td>\n",
       "      <td>205</td>\n",
       "      <td>Thailand</td>\n",
       "      <td>5</td>\n",
       "      <td>...</td>\n",
       "      <td>NaN</td>\n",
       "      <td>Attack on teacher closes schools, Emerging M...</td>\n",
       "      <td>Attack on Teacher, Associated Press Worldstr...</td>\n",
       "      <td>NaN</td>\n",
       "      <td>CETIS</td>\n",
       "      <td>-9</td>\n",
       "      <td>-9</td>\n",
       "      <td>0</td>\n",
       "      <td>-9</td>\n",
       "      <td>NaN</td>\n",
       "    </tr>\n",
       "    <tr>\n",
       "      <th>77474</th>\n",
       "      <td>200501220004</td>\n",
       "      <td>2005</td>\n",
       "      <td>1</td>\n",
       "      <td>22</td>\n",
       "      <td>NaN</td>\n",
       "      <td>0</td>\n",
       "      <td>NaN</td>\n",
       "      <td>205</td>\n",
       "      <td>Thailand</td>\n",
       "      <td>5</td>\n",
       "      <td>...</td>\n",
       "      <td>NaN</td>\n",
       "      <td>\"Two Buddhists Shot Dead in Thailands Restive...</td>\n",
       "      <td>NaN</td>\n",
       "      <td>NaN</td>\n",
       "      <td>CETIS</td>\n",
       "      <td>-9</td>\n",
       "      <td>-9</td>\n",
       "      <td>0</td>\n",
       "      <td>-9</td>\n",
       "      <td>200501220004, 200501220003</td>\n",
       "    </tr>\n",
       "    <tr>\n",
       "      <th>...</th>\n",
       "      <td>...</td>\n",
       "      <td>...</td>\n",
       "      <td>...</td>\n",
       "      <td>...</td>\n",
       "      <td>...</td>\n",
       "      <td>...</td>\n",
       "      <td>...</td>\n",
       "      <td>...</td>\n",
       "      <td>...</td>\n",
       "      <td>...</td>\n",
       "      <td>...</td>\n",
       "      <td>...</td>\n",
       "      <td>...</td>\n",
       "      <td>...</td>\n",
       "      <td>...</td>\n",
       "      <td>...</td>\n",
       "      <td>...</td>\n",
       "      <td>...</td>\n",
       "      <td>...</td>\n",
       "      <td>...</td>\n",
       "      <td>...</td>\n",
       "    </tr>\n",
       "    <tr>\n",
       "      <th>169757</th>\n",
       "      <td>201611270021</td>\n",
       "      <td>2016</td>\n",
       "      <td>11</td>\n",
       "      <td>26</td>\n",
       "      <td>NaN</td>\n",
       "      <td>0</td>\n",
       "      <td>NaN</td>\n",
       "      <td>205</td>\n",
       "      <td>Thailand</td>\n",
       "      <td>5</td>\n",
       "      <td>...</td>\n",
       "      <td>NaN</td>\n",
       "      <td>\"Thai gunman kills pregnant woman; WORLD BULLE...</td>\n",
       "      <td>\"Pregnant woman killed in Pattani,\" The Nation...</td>\n",
       "      <td>\"Thailand: NHRC condemns of the killing of a p...</td>\n",
       "      <td>START Primary Collection</td>\n",
       "      <td>-9</td>\n",
       "      <td>-9</td>\n",
       "      <td>0</td>\n",
       "      <td>-9</td>\n",
       "      <td>NaN</td>\n",
       "    </tr>\n",
       "    <tr>\n",
       "      <th>174577</th>\n",
       "      <td>201705090028</td>\n",
       "      <td>2017</td>\n",
       "      <td>5</td>\n",
       "      <td>9</td>\n",
       "      <td>NaN</td>\n",
       "      <td>0</td>\n",
       "      <td>NaN</td>\n",
       "      <td>205</td>\n",
       "      <td>Thailand</td>\n",
       "      <td>5</td>\n",
       "      <td>...</td>\n",
       "      <td>NaN</td>\n",
       "      <td>\"Man admits part in murder of pickup owner in ...</td>\n",
       "      <td>\"Cops find dead body of bomb truck owner,\" Ban...</td>\n",
       "      <td>\"Security officials scouring Nong Chik for mis...</td>\n",
       "      <td>START Primary Collection</td>\n",
       "      <td>0</td>\n",
       "      <td>0</td>\n",
       "      <td>0</td>\n",
       "      <td>0</td>\n",
       "      <td>201705090027, 201705090028, 201705100026</td>\n",
       "    </tr>\n",
       "    <tr>\n",
       "      <th>177281</th>\n",
       "      <td>201707230040</td>\n",
       "      <td>2017</td>\n",
       "      <td>7</td>\n",
       "      <td>23</td>\n",
       "      <td>NaN</td>\n",
       "      <td>0</td>\n",
       "      <td>NaN</td>\n",
       "      <td>205</td>\n",
       "      <td>Thailand</td>\n",
       "      <td>5</td>\n",
       "      <td>...</td>\n",
       "      <td>NaN</td>\n",
       "      <td>\"Thailand: Insurgents attack army base in Patt...</td>\n",
       "      <td>\"Selection List: Thai Press From Pattani, Yala...</td>\n",
       "      <td>NaN</td>\n",
       "      <td>START Primary Collection</td>\n",
       "      <td>-9</td>\n",
       "      <td>-9</td>\n",
       "      <td>0</td>\n",
       "      <td>-9</td>\n",
       "      <td>201707230004, 201707230040</td>\n",
       "    </tr>\n",
       "    <tr>\n",
       "      <th>178726</th>\n",
       "      <td>201709100012</td>\n",
       "      <td>2017</td>\n",
       "      <td>9</td>\n",
       "      <td>10</td>\n",
       "      <td>NaN</td>\n",
       "      <td>0</td>\n",
       "      <td>NaN</td>\n",
       "      <td>205</td>\n",
       "      <td>Thailand</td>\n",
       "      <td>5</td>\n",
       "      <td>...</td>\n",
       "      <td>NaN</td>\n",
       "      <td>\"Thailand: Suspect in fatal Phu Thap Boek bomb...</td>\n",
       "      <td>\"Deadly tourist attraction blast âaimed a demo...</td>\n",
       "      <td>\"Thailand: Phu Thap Boek blast possibly linked...</td>\n",
       "      <td>START Primary Collection</td>\n",
       "      <td>-9</td>\n",
       "      <td>-9</td>\n",
       "      <td>0</td>\n",
       "      <td>-9</td>\n",
       "      <td>NaN</td>\n",
       "    </tr>\n",
       "    <tr>\n",
       "      <th>180934</th>\n",
       "      <td>201711300037</td>\n",
       "      <td>2017</td>\n",
       "      <td>11</td>\n",
       "      <td>30</td>\n",
       "      <td>NaN</td>\n",
       "      <td>0</td>\n",
       "      <td>NaN</td>\n",
       "      <td>205</td>\n",
       "      <td>Thailand</td>\n",
       "      <td>5</td>\n",
       "      <td>...</td>\n",
       "      <td>NaN</td>\n",
       "      <td>\"Two injured in Narathiwat bomb explosion,\" Th...</td>\n",
       "      <td>\"Thailand: Two civilians injured in Narathiwat...</td>\n",
       "      <td>\"Thailand: Volunteer, woman hurt by bomb, sold...</td>\n",
       "      <td>START Primary Collection</td>\n",
       "      <td>-9</td>\n",
       "      <td>-9</td>\n",
       "      <td>0</td>\n",
       "      <td>-9</td>\n",
       "      <td>NaN</td>\n",
       "    </tr>\n",
       "  </tbody>\n",
       "</table>\n",
       "<p>112 rows × 135 columns</p>\n",
       "</div>"
      ],
      "text/plain": [
       "             eventid  iyear  imonth  iday approxdate  extended resolution  \\\n",
       "27798   198604080001   1986       4     8        NaN         0        NaN   \n",
       "56193   199405060005   1994       5     6        NaN         0        NaN   \n",
       "58119   199412270005   1994      12    27        NaN         0        NaN   \n",
       "67551   199801190002   1998       1    19        NaN         0        NaN   \n",
       "77474   200501220004   2005       1    22        NaN         0        NaN   \n",
       "...              ...    ...     ...   ...        ...       ...        ...   \n",
       "169757  201611270021   2016      11    26        NaN         0        NaN   \n",
       "174577  201705090028   2017       5     9        NaN         0        NaN   \n",
       "177281  201707230040   2017       7    23        NaN         0        NaN   \n",
       "178726  201709100012   2017       9    10        NaN         0        NaN   \n",
       "180934  201711300037   2017      11    30        NaN         0        NaN   \n",
       "\n",
       "        country country_txt  region  ... addnotes  \\\n",
       "27798       205    Thailand       5  ...      NaN   \n",
       "56193       205    Thailand       5  ...      NaN   \n",
       "58119       205    Thailand       5  ...      NaN   \n",
       "67551       205    Thailand       5  ...      NaN   \n",
       "77474       205    Thailand       5  ...      NaN   \n",
       "...         ...         ...     ...  ...      ...   \n",
       "169757      205    Thailand       5  ...      NaN   \n",
       "174577      205    Thailand       5  ...      NaN   \n",
       "177281      205    Thailand       5  ...      NaN   \n",
       "178726      205    Thailand       5  ...      NaN   \n",
       "180934      205    Thailand       5  ...      NaN   \n",
       "\n",
       "                                                   scite1  \\\n",
       "27798                                                 NaN   \n",
       "56193                                                 NaN   \n",
       "58119                                                 NaN   \n",
       "67551   Attack on teacher closes schools, Emerging M...   \n",
       "77474   \"Two Buddhists Shot Dead in Thailands Restive...   \n",
       "...                                                   ...   \n",
       "169757  \"Thai gunman kills pregnant woman; WORLD BULLE...   \n",
       "174577  \"Man admits part in murder of pickup owner in ...   \n",
       "177281  \"Thailand: Insurgents attack army base in Patt...   \n",
       "178726  \"Thailand: Suspect in fatal Phu Thap Boek bomb...   \n",
       "180934  \"Two injured in Narathiwat bomb explosion,\" Th...   \n",
       "\n",
       "                                                   scite2  \\\n",
       "27798                                                 NaN   \n",
       "56193                                                 NaN   \n",
       "58119                                                 NaN   \n",
       "67551   Attack on Teacher, Associated Press Worldstr...   \n",
       "77474                                                 NaN   \n",
       "...                                                   ...   \n",
       "169757  \"Pregnant woman killed in Pattani,\" The Nation...   \n",
       "174577  \"Cops find dead body of bomb truck owner,\" Ban...   \n",
       "177281  \"Selection List: Thai Press From Pattani, Yala...   \n",
       "178726  \"Deadly tourist attraction blast âaimed a demo...   \n",
       "180934  \"Thailand: Two civilians injured in Narathiwat...   \n",
       "\n",
       "                                                   scite3  \\\n",
       "27798                                                 NaN   \n",
       "56193                                                 NaN   \n",
       "58119                                                 NaN   \n",
       "67551                                                 NaN   \n",
       "77474                                                 NaN   \n",
       "...                                                   ...   \n",
       "169757  \"Thailand: NHRC condemns of the killing of a p...   \n",
       "174577  \"Security officials scouring Nong Chik for mis...   \n",
       "177281                                                NaN   \n",
       "178726  \"Thailand: Phu Thap Boek blast possibly linked...   \n",
       "180934  \"Thailand: Volunteer, woman hurt by bomb, sold...   \n",
       "\n",
       "                        dbsource  INT_LOG  INT_IDEO INT_MISC INT_ANY  \\\n",
       "27798                       PGIS       -9        -9        1       1   \n",
       "56193                       PGIS       -9        -9        0      -9   \n",
       "58119                       PGIS       -9        -9        0      -9   \n",
       "67551                      CETIS       -9        -9        0      -9   \n",
       "77474                      CETIS       -9        -9        0      -9   \n",
       "...                          ...      ...       ...      ...     ...   \n",
       "169757  START Primary Collection       -9        -9        0      -9   \n",
       "174577  START Primary Collection        0         0        0       0   \n",
       "177281  START Primary Collection       -9        -9        0      -9   \n",
       "178726  START Primary Collection       -9        -9        0      -9   \n",
       "180934  START Primary Collection       -9        -9        0      -9   \n",
       "\n",
       "                                         related  \n",
       "27798                                        NaN  \n",
       "56193                                        NaN  \n",
       "58119                                        NaN  \n",
       "67551                                        NaN  \n",
       "77474                 200501220004, 200501220003  \n",
       "...                                          ...  \n",
       "169757                                       NaN  \n",
       "174577  201705090027, 201705090028, 201705100026  \n",
       "177281                201707230004, 201707230040  \n",
       "178726                                       NaN  \n",
       "180934                                       NaN  \n",
       "\n",
       "[112 rows x 135 columns]"
      ]
     },
     "execution_count": 38,
     "metadata": {},
     "output_type": "execute_result"
    }
   ],
   "source": [
    "target1 = df[df['targsubtype1_txt'] == 'Named Civilian']\n",
    "target2 = target1[target1['country_txt'] == 'Thailand']\n",
    "target2"
   ]
  },
  {
   "cell_type": "markdown",
   "id": "5c5cb047-7182-4e08-90fe-e8f910f67b73",
   "metadata": {},
   "source": [
    "<h1>DATA AGGREGATION</h1>"
   ]
  },
  {
   "cell_type": "code",
   "execution_count": 39,
   "id": "a8d7530b-eae6-47c0-a5d0-de3b5dbe7adc",
   "metadata": {},
   "outputs": [
    {
     "data": {
      "text/html": [
       "<div>\n",
       "<style scoped>\n",
       "    .dataframe tbody tr th:only-of-type {\n",
       "        vertical-align: middle;\n",
       "    }\n",
       "\n",
       "    .dataframe tbody tr th {\n",
       "        vertical-align: top;\n",
       "    }\n",
       "\n",
       "    .dataframe thead th {\n",
       "        text-align: right;\n",
       "    }\n",
       "</style>\n",
       "<table border=\"1\" class=\"dataframe\">\n",
       "  <thead>\n",
       "    <tr style=\"text-align: right;\">\n",
       "      <th></th>\n",
       "      <th>latitude</th>\n",
       "      <th>longitude</th>\n",
       "      <th>incident_count</th>\n",
       "    </tr>\n",
       "  </thead>\n",
       "  <tbody>\n",
       "    <tr>\n",
       "      <th>0</th>\n",
       "      <td>5.773116</td>\n",
       "      <td>101.072458</td>\n",
       "      <td>1</td>\n",
       "    </tr>\n",
       "    <tr>\n",
       "      <th>1</th>\n",
       "      <td>5.916320</td>\n",
       "      <td>101.866838</td>\n",
       "      <td>1</td>\n",
       "    </tr>\n",
       "    <tr>\n",
       "      <th>2</th>\n",
       "      <td>6.015231</td>\n",
       "      <td>101.952085</td>\n",
       "      <td>1</td>\n",
       "    </tr>\n",
       "    <tr>\n",
       "      <th>3</th>\n",
       "      <td>6.015439</td>\n",
       "      <td>101.952028</td>\n",
       "      <td>1</td>\n",
       "    </tr>\n",
       "    <tr>\n",
       "      <th>4</th>\n",
       "      <td>6.057088</td>\n",
       "      <td>101.695444</td>\n",
       "      <td>2</td>\n",
       "    </tr>\n",
       "    <tr>\n",
       "      <th>...</th>\n",
       "      <td>...</td>\n",
       "      <td>...</td>\n",
       "      <td>...</td>\n",
       "    </tr>\n",
       "    <tr>\n",
       "      <th>74</th>\n",
       "      <td>8.385649</td>\n",
       "      <td>99.506173</td>\n",
       "      <td>1</td>\n",
       "    </tr>\n",
       "    <tr>\n",
       "      <th>75</th>\n",
       "      <td>8.645906</td>\n",
       "      <td>99.940920</td>\n",
       "      <td>1</td>\n",
       "    </tr>\n",
       "    <tr>\n",
       "      <th>76</th>\n",
       "      <td>13.785793</td>\n",
       "      <td>100.560852</td>\n",
       "      <td>2</td>\n",
       "    </tr>\n",
       "    <tr>\n",
       "      <th>77</th>\n",
       "      <td>13.821834</td>\n",
       "      <td>102.068248</td>\n",
       "      <td>1</td>\n",
       "    </tr>\n",
       "    <tr>\n",
       "      <th>78</th>\n",
       "      <td>16.831165</td>\n",
       "      <td>101.177975</td>\n",
       "      <td>1</td>\n",
       "    </tr>\n",
       "  </tbody>\n",
       "</table>\n",
       "<p>79 rows × 3 columns</p>\n",
       "</div>"
      ],
      "text/plain": [
       "     latitude   longitude  incident_count\n",
       "0    5.773116  101.072458               1\n",
       "1    5.916320  101.866838               1\n",
       "2    6.015231  101.952085               1\n",
       "3    6.015439  101.952028               1\n",
       "4    6.057088  101.695444               2\n",
       "..        ...         ...             ...\n",
       "74   8.385649   99.506173               1\n",
       "75   8.645906   99.940920               1\n",
       "76  13.785793  100.560852               2\n",
       "77  13.821834  102.068248               1\n",
       "78  16.831165  101.177975               1\n",
       "\n",
       "[79 rows x 3 columns]"
      ]
     },
     "execution_count": 39,
     "metadata": {},
     "output_type": "execute_result"
    }
   ],
   "source": [
    "target3 = target2.groupby(['latitude','longitude']).size().reset_index(name='incident_count')\n",
    "target3"
   ]
  },
  {
   "cell_type": "markdown",
   "id": "e0643491-7722-4a8c-9d59-e69bd2fd9104",
   "metadata": {},
   "source": [
    "<h1>Use of FOLIUM FOR GEOSPATIAL</h1>"
   ]
  },
  {
   "cell_type": "markdown",
   "id": "f27f522d-88f7-41ee-adbf-35a5fd85a291",
   "metadata": {},
   "source": [
    "<h3> Converting Pandas Data Frame into Python List</h3>"
   ]
  },
  {
   "cell_type": "code",
   "execution_count": 40,
   "id": "1feea13c-e4ae-483d-81fc-d5b70d964956",
   "metadata": {},
   "outputs": [],
   "source": [
    "target3[\"normalize_data\"] = target3['incident_count'] - target3['incident_count'].min() / \\\n",
    "                                target3['incident_count'].max() - target3['incident_count']\n",
    "\n",
    "target_heatmap = target3[['latitude', 'longitude', 'incident_count']].values.tolist()"
   ]
  },
  {
   "cell_type": "markdown",
   "id": "183492ee-ecfc-4c38-940b-e0a17f569efe",
   "metadata": {},
   "source": [
    "<h3> Creating a base map </h3>"
   ]
  },
  {
   "cell_type": "code",
   "execution_count": 41,
   "id": "8c810966-bad2-4fac-b445-4307567b23fb",
   "metadata": {},
   "outputs": [],
   "source": [
    "map3 = folium.Map(location=[12, 101], zoom_start= 6)"
   ]
  },
  {
   "cell_type": "markdown",
   "id": "24aa7a00-62be-483a-af0e-a5549cbfd2e3",
   "metadata": {},
   "source": [
    "<h3> Add Heatmap Layer </h3>"
   ]
  },
  {
   "cell_type": "code",
   "execution_count": 42,
   "id": "d8be76c0-06dd-44da-825e-85a6bff08380",
   "metadata": {},
   "outputs": [
    {
     "data": {
      "text/plain": [
       "<folium.plugins.heat_map.HeatMap at 0x12cd7b05ee0>"
      ]
     },
     "execution_count": 42,
     "metadata": {},
     "output_type": "execute_result"
    }
   ],
   "source": [
    "HeatMap(target_heatmap).add_to(map3)"
   ]
  },
  {
   "cell_type": "code",
   "execution_count": 24,
   "id": "77a47a4a-6ae4-4e29-9cef-d3f87e87832e",
   "metadata": {},
   "outputs": [
    {
     "data": {
      "text/html": [
       "<div style=\"width:100%;\"><div style=\"position:relative;width:100%;height:0;padding-bottom:60%;\"><span style=\"color:#565656\">Make this Notebook Trusted to load map: File -> Trust Notebook</span><iframe srcdoc=\"&lt;!DOCTYPE html&gt;\n",
       "&lt;html&gt;\n",
       "&lt;head&gt;\n",
       "    \n",
       "    &lt;meta http-equiv=&quot;content-type&quot; content=&quot;text/html; charset=UTF-8&quot; /&gt;\n",
       "    \n",
       "        &lt;script&gt;\n",
       "            L_NO_TOUCH = false;\n",
       "            L_DISABLE_3D = false;\n",
       "        &lt;/script&gt;\n",
       "    \n",
       "    &lt;style&gt;html, body {width: 100%;height: 100%;margin: 0;padding: 0;}&lt;/style&gt;\n",
       "    &lt;style&gt;#map {position:absolute;top:0;bottom:0;right:0;left:0;}&lt;/style&gt;\n",
       "    &lt;script src=&quot;https://cdn.jsdelivr.net/npm/leaflet@1.9.3/dist/leaflet.js&quot;&gt;&lt;/script&gt;\n",
       "    &lt;script src=&quot;https://code.jquery.com/jquery-3.7.1.min.js&quot;&gt;&lt;/script&gt;\n",
       "    &lt;script src=&quot;https://cdn.jsdelivr.net/npm/bootstrap@5.2.2/dist/js/bootstrap.bundle.min.js&quot;&gt;&lt;/script&gt;\n",
       "    &lt;script src=&quot;https://cdnjs.cloudflare.com/ajax/libs/Leaflet.awesome-markers/2.0.2/leaflet.awesome-markers.js&quot;&gt;&lt;/script&gt;\n",
       "    &lt;link rel=&quot;stylesheet&quot; href=&quot;https://cdn.jsdelivr.net/npm/leaflet@1.9.3/dist/leaflet.css&quot;/&gt;\n",
       "    &lt;link rel=&quot;stylesheet&quot; href=&quot;https://cdn.jsdelivr.net/npm/bootstrap@5.2.2/dist/css/bootstrap.min.css&quot;/&gt;\n",
       "    &lt;link rel=&quot;stylesheet&quot; href=&quot;https://netdna.bootstrapcdn.com/bootstrap/3.0.0/css/bootstrap-glyphicons.css&quot;/&gt;\n",
       "    &lt;link rel=&quot;stylesheet&quot; href=&quot;https://cdn.jsdelivr.net/npm/@fortawesome/fontawesome-free@6.2.0/css/all.min.css&quot;/&gt;\n",
       "    &lt;link rel=&quot;stylesheet&quot; href=&quot;https://cdnjs.cloudflare.com/ajax/libs/Leaflet.awesome-markers/2.0.2/leaflet.awesome-markers.css&quot;/&gt;\n",
       "    &lt;link rel=&quot;stylesheet&quot; href=&quot;https://cdn.jsdelivr.net/gh/python-visualization/folium/folium/templates/leaflet.awesome.rotate.min.css&quot;/&gt;\n",
       "    \n",
       "            &lt;meta name=&quot;viewport&quot; content=&quot;width=device-width,\n",
       "                initial-scale=1.0, maximum-scale=1.0, user-scalable=no&quot; /&gt;\n",
       "            &lt;style&gt;\n",
       "                #map_bad906fdf5e9f375f0ccc6c76f764127 {\n",
       "                    position: relative;\n",
       "                    width: 100.0%;\n",
       "                    height: 100.0%;\n",
       "                    left: 0.0%;\n",
       "                    top: 0.0%;\n",
       "                }\n",
       "                .leaflet-container { font-size: 1rem; }\n",
       "            &lt;/style&gt;\n",
       "        \n",
       "    &lt;script src=&quot;https://cdn.jsdelivr.net/gh/python-visualization/folium@main/folium/templates/leaflet_heat.min.js&quot;&gt;&lt;/script&gt;\n",
       "&lt;/head&gt;\n",
       "&lt;body&gt;\n",
       "    \n",
       "    \n",
       "            &lt;div class=&quot;folium-map&quot; id=&quot;map_bad906fdf5e9f375f0ccc6c76f764127&quot; &gt;&lt;/div&gt;\n",
       "        \n",
       "&lt;/body&gt;\n",
       "&lt;script&gt;\n",
       "    \n",
       "    \n",
       "            var map_bad906fdf5e9f375f0ccc6c76f764127 = L.map(\n",
       "                &quot;map_bad906fdf5e9f375f0ccc6c76f764127&quot;,\n",
       "                {\n",
       "                    center: [12.0, 101.0],\n",
       "                    crs: L.CRS.EPSG3857,\n",
       "                    ...{\n",
       "  &quot;zoom&quot;: 6,\n",
       "  &quot;zoomControl&quot;: true,\n",
       "  &quot;preferCanvas&quot;: false,\n",
       "}\n",
       "\n",
       "                }\n",
       "            );\n",
       "\n",
       "            \n",
       "\n",
       "        \n",
       "    \n",
       "            var tile_layer_3e2eadb73a0e2609f3287e4c5945f363 = L.tileLayer(\n",
       "                &quot;https://tile.openstreetmap.org/{z}/{x}/{y}.png&quot;,\n",
       "                {\n",
       "  &quot;minZoom&quot;: 0,\n",
       "  &quot;maxZoom&quot;: 19,\n",
       "  &quot;maxNativeZoom&quot;: 19,\n",
       "  &quot;noWrap&quot;: false,\n",
       "  &quot;attribution&quot;: &quot;\\u0026copy; \\u003ca href=\\&quot;https://www.openstreetmap.org/copyright\\&quot;\\u003eOpenStreetMap\\u003c/a\\u003e contributors&quot;,\n",
       "  &quot;subdomains&quot;: &quot;abc&quot;,\n",
       "  &quot;detectRetina&quot;: false,\n",
       "  &quot;tms&quot;: false,\n",
       "  &quot;opacity&quot;: 1,\n",
       "}\n",
       "\n",
       "            );\n",
       "        \n",
       "    \n",
       "            tile_layer_3e2eadb73a0e2609f3287e4c5945f363.addTo(map_bad906fdf5e9f375f0ccc6c76f764127);\n",
       "        \n",
       "    \n",
       "            var heat_map_c84f41a902bd8fcc4b5cb61ccacdef8f = L.heatLayer(\n",
       "                [],\n",
       "                {\n",
       "  &quot;minOpacity&quot;: 0.5,\n",
       "  &quot;maxZoom&quot;: 18,\n",
       "  &quot;radius&quot;: 25,\n",
       "  &quot;blur&quot;: 15,\n",
       "}\n",
       "            );\n",
       "        \n",
       "    \n",
       "            heat_map_c84f41a902bd8fcc4b5cb61ccacdef8f.addTo(map_bad906fdf5e9f375f0ccc6c76f764127);\n",
       "        \n",
       "&lt;/script&gt;\n",
       "&lt;/html&gt;\" style=\"position:absolute;width:100%;height:100%;left:0;top:0;border:none !important;\" allowfullscreen webkitallowfullscreen mozallowfullscreen></iframe></div></div>"
      ],
      "text/plain": [
       "<folium.folium.Map at 0x12c9b985af0>"
      ]
     },
     "execution_count": 24,
     "metadata": {},
     "output_type": "execute_result"
    }
   ],
   "source": [
    "map3"
   ]
  },
  {
   "cell_type": "markdown",
   "id": "27ddd28f-9b8f-456f-84a7-59fbe1965950",
   "metadata": {
    "jp-MarkdownHeadingCollapsed": true
   },
   "source": [
    "<h2> TARGET ANALYSIS INSIGHT</h2>\n",
    "<H2>Attacks targeting named civilians in Thailand show a pronounced concentration in the southern region near the Malaysian border, with the most intense hotspot around Narathiwat province. Secondary clusters appear in central Thailand near Bangkok and in the northern regions, reflecting the geographic pattern of Thailand's ongoing southern insurgency where separatist groups have specifically targeted individual civilians as part of their campaign.</H2>"
   ]
  },
  {
   "cell_type": "markdown",
   "id": "bcecf533-b8ae-4910-9481-db8818cdded8",
   "metadata": {},
   "source": [
    "<h1>CASUALTY ANALYSIS</h1>\n"
   ]
  },
  {
   "cell_type": "markdown",
   "id": "0af36046-315e-4e9d-bfc4-285e79f175ed",
   "metadata": {},
   "source": [
    "<h1>FILTERING DATA</h1>"
   ]
  },
  {
   "cell_type": "code",
   "execution_count": 25,
   "id": "a9266442-d02d-4597-9922-809b1599863f",
   "metadata": {},
   "outputs": [],
   "source": [
    "casualty1 = df[df['nkill'] >= 5]\n",
    "casualty2 = casualty1[casualty1['attacktype1_txt'] == 'Assassination']\n",
    "casualty3 = casualty2[casualty2['country_txt'] == 'Afghanistan']"
   ]
  },
  {
   "cell_type": "markdown",
   "id": "350b13ca-944d-40f8-92ba-7bfabf5eb0dc",
   "metadata": {},
   "source": [
    "<h1>DATA AGGREGATION</h1>"
   ]
  },
  {
   "cell_type": "code",
   "execution_count": 26,
   "id": "74f3a01c-3d1a-4bf0-867a-4d344715f09c",
   "metadata": {
    "scrolled": true
   },
   "outputs": [
    {
     "data": {
      "text/html": [
       "<div>\n",
       "<style scoped>\n",
       "    .dataframe tbody tr th:only-of-type {\n",
       "        vertical-align: middle;\n",
       "    }\n",
       "\n",
       "    .dataframe tbody tr th {\n",
       "        vertical-align: top;\n",
       "    }\n",
       "\n",
       "    .dataframe thead th {\n",
       "        text-align: right;\n",
       "    }\n",
       "</style>\n",
       "<table border=\"1\" class=\"dataframe\">\n",
       "  <thead>\n",
       "    <tr style=\"text-align: right;\">\n",
       "      <th></th>\n",
       "      <th>latitude</th>\n",
       "      <th>longitude</th>\n",
       "      <th>incident_count</th>\n",
       "    </tr>\n",
       "  </thead>\n",
       "  <tbody>\n",
       "    <tr>\n",
       "      <th>0</th>\n",
       "      <td>30.550198</td>\n",
       "      <td>63.786060</td>\n",
       "      <td>1</td>\n",
       "    </tr>\n",
       "    <tr>\n",
       "      <th>1</th>\n",
       "      <td>30.959932</td>\n",
       "      <td>61.868950</td>\n",
       "      <td>1</td>\n",
       "    </tr>\n",
       "    <tr>\n",
       "      <th>2</th>\n",
       "      <td>31.002735</td>\n",
       "      <td>66.405617</td>\n",
       "      <td>1</td>\n",
       "    </tr>\n",
       "    <tr>\n",
       "      <th>3</th>\n",
       "      <td>31.544476</td>\n",
       "      <td>65.484566</td>\n",
       "      <td>1</td>\n",
       "    </tr>\n",
       "    <tr>\n",
       "      <th>4</th>\n",
       "      <td>31.587778</td>\n",
       "      <td>65.690278</td>\n",
       "      <td>1</td>\n",
       "    </tr>\n",
       "    <tr>\n",
       "      <th>...</th>\n",
       "      <td>...</td>\n",
       "      <td>...</td>\n",
       "      <td>...</td>\n",
       "    </tr>\n",
       "    <tr>\n",
       "      <th>56</th>\n",
       "      <td>36.954998</td>\n",
       "      <td>65.125449</td>\n",
       "      <td>1</td>\n",
       "    </tr>\n",
       "    <tr>\n",
       "      <th>57</th>\n",
       "      <td>36.959546</td>\n",
       "      <td>65.062989</td>\n",
       "      <td>1</td>\n",
       "    </tr>\n",
       "    <tr>\n",
       "      <th>58</th>\n",
       "      <td>36.985233</td>\n",
       "      <td>69.379383</td>\n",
       "      <td>1</td>\n",
       "    </tr>\n",
       "    <tr>\n",
       "      <th>59</th>\n",
       "      <td>37.004408</td>\n",
       "      <td>66.163062</td>\n",
       "      <td>1</td>\n",
       "    </tr>\n",
       "    <tr>\n",
       "      <th>60</th>\n",
       "      <td>37.037092</td>\n",
       "      <td>69.176681</td>\n",
       "      <td>1</td>\n",
       "    </tr>\n",
       "  </tbody>\n",
       "</table>\n",
       "<p>61 rows × 3 columns</p>\n",
       "</div>"
      ],
      "text/plain": [
       "     latitude  longitude  incident_count\n",
       "0   30.550198  63.786060               1\n",
       "1   30.959932  61.868950               1\n",
       "2   31.002735  66.405617               1\n",
       "3   31.544476  65.484566               1\n",
       "4   31.587778  65.690278               1\n",
       "..        ...        ...             ...\n",
       "56  36.954998  65.125449               1\n",
       "57  36.959546  65.062989               1\n",
       "58  36.985233  69.379383               1\n",
       "59  37.004408  66.163062               1\n",
       "60  37.037092  69.176681               1\n",
       "\n",
       "[61 rows x 3 columns]"
      ]
     },
     "execution_count": 26,
     "metadata": {},
     "output_type": "execute_result"
    }
   ],
   "source": [
    "casualty4 = casualty3.groupby(['latitude','longitude']).size().reset_index(name='incident_count')\n",
    "casualty4"
   ]
  },
  {
   "cell_type": "markdown",
   "id": "cbcf35f7-34b6-4757-abae-9886c4c2e617",
   "metadata": {},
   "source": [
    "<h1>Use of FOLIUM FOR GEOSPATIAL</h1>"
   ]
  },
  {
   "cell_type": "markdown",
   "id": "35203275-429f-4969-ba05-b18eeb1d97ae",
   "metadata": {},
   "source": [
    "<h3> Converting Pandas Data Frame into Python List</h3>"
   ]
  },
  {
   "cell_type": "code",
   "execution_count": 27,
   "id": "5d7ac9e0-de3d-460b-b9ae-df03393d5ee5",
   "metadata": {},
   "outputs": [],
   "source": [
    "casualty4[\"normalize_data\"] = casualty4['incident_count'] - casualty4['incident_count'].min() / \\\n",
    "                                casualty4['incident_count'].max() - casualty4['incident_count']\n",
    "\n",
    "casualty_heatmap = casualty4[['latitude', 'longitude', 'incident_count']].values.tolist()"
   ]
  },
  {
   "cell_type": "markdown",
   "id": "2f4af559-ae9d-4195-9121-ab3b2c7ac63b",
   "metadata": {},
   "source": [
    "<h3> Creating a base map </h3>"
   ]
  },
  {
   "cell_type": "code",
   "execution_count": 28,
   "id": "09be3059-e4a3-4e41-a4bb-257063abd9f0",
   "metadata": {},
   "outputs": [],
   "source": [
    "map4 = folium.Map(location=[33.9391, 67.7100], zoom_start=6)"
   ]
  },
  {
   "cell_type": "markdown",
   "id": "dd1679be-f803-49cf-837f-1361a5cf621b",
   "metadata": {},
   "source": [
    "<h3> Add Heatmap Layer </h3>"
   ]
  },
  {
   "cell_type": "code",
   "execution_count": 29,
   "id": "ff9d8c20-95b1-46ae-89c1-08bc170bf2d1",
   "metadata": {},
   "outputs": [
    {
     "data": {
      "text/plain": [
       "<folium.plugins.heat_map.HeatMap at 0x12cfba5e750>"
      ]
     },
     "execution_count": 29,
     "metadata": {},
     "output_type": "execute_result"
    }
   ],
   "source": [
    "HeatMap(casualty_heatmap).add_to(map4)"
   ]
  },
  {
   "cell_type": "code",
   "execution_count": 30,
   "id": "debe4933-c85a-4bf4-9c46-bc8ecdd06088",
   "metadata": {},
   "outputs": [
    {
     "data": {
      "text/html": [
       "<div style=\"width:100%;\"><div style=\"position:relative;width:100%;height:0;padding-bottom:60%;\"><span style=\"color:#565656\">Make this Notebook Trusted to load map: File -> Trust Notebook</span><iframe srcdoc=\"&lt;!DOCTYPE html&gt;\n",
       "&lt;html&gt;\n",
       "&lt;head&gt;\n",
       "    \n",
       "    &lt;meta http-equiv=&quot;content-type&quot; content=&quot;text/html; charset=UTF-8&quot; /&gt;\n",
       "    \n",
       "        &lt;script&gt;\n",
       "            L_NO_TOUCH = false;\n",
       "            L_DISABLE_3D = false;\n",
       "        &lt;/script&gt;\n",
       "    \n",
       "    &lt;style&gt;html, body {width: 100%;height: 100%;margin: 0;padding: 0;}&lt;/style&gt;\n",
       "    &lt;style&gt;#map {position:absolute;top:0;bottom:0;right:0;left:0;}&lt;/style&gt;\n",
       "    &lt;script src=&quot;https://cdn.jsdelivr.net/npm/leaflet@1.9.3/dist/leaflet.js&quot;&gt;&lt;/script&gt;\n",
       "    &lt;script src=&quot;https://code.jquery.com/jquery-3.7.1.min.js&quot;&gt;&lt;/script&gt;\n",
       "    &lt;script src=&quot;https://cdn.jsdelivr.net/npm/bootstrap@5.2.2/dist/js/bootstrap.bundle.min.js&quot;&gt;&lt;/script&gt;\n",
       "    &lt;script src=&quot;https://cdnjs.cloudflare.com/ajax/libs/Leaflet.awesome-markers/2.0.2/leaflet.awesome-markers.js&quot;&gt;&lt;/script&gt;\n",
       "    &lt;link rel=&quot;stylesheet&quot; href=&quot;https://cdn.jsdelivr.net/npm/leaflet@1.9.3/dist/leaflet.css&quot;/&gt;\n",
       "    &lt;link rel=&quot;stylesheet&quot; href=&quot;https://cdn.jsdelivr.net/npm/bootstrap@5.2.2/dist/css/bootstrap.min.css&quot;/&gt;\n",
       "    &lt;link rel=&quot;stylesheet&quot; href=&quot;https://netdna.bootstrapcdn.com/bootstrap/3.0.0/css/bootstrap-glyphicons.css&quot;/&gt;\n",
       "    &lt;link rel=&quot;stylesheet&quot; href=&quot;https://cdn.jsdelivr.net/npm/@fortawesome/fontawesome-free@6.2.0/css/all.min.css&quot;/&gt;\n",
       "    &lt;link rel=&quot;stylesheet&quot; href=&quot;https://cdnjs.cloudflare.com/ajax/libs/Leaflet.awesome-markers/2.0.2/leaflet.awesome-markers.css&quot;/&gt;\n",
       "    &lt;link rel=&quot;stylesheet&quot; href=&quot;https://cdn.jsdelivr.net/gh/python-visualization/folium/folium/templates/leaflet.awesome.rotate.min.css&quot;/&gt;\n",
       "    \n",
       "            &lt;meta name=&quot;viewport&quot; content=&quot;width=device-width,\n",
       "                initial-scale=1.0, maximum-scale=1.0, user-scalable=no&quot; /&gt;\n",
       "            &lt;style&gt;\n",
       "                #map_125e24c6dcc580744dfac57c0a886e6b {\n",
       "                    position: relative;\n",
       "                    width: 100.0%;\n",
       "                    height: 100.0%;\n",
       "                    left: 0.0%;\n",
       "                    top: 0.0%;\n",
       "                }\n",
       "                .leaflet-container { font-size: 1rem; }\n",
       "            &lt;/style&gt;\n",
       "        \n",
       "    &lt;script src=&quot;https://cdn.jsdelivr.net/gh/python-visualization/folium@main/folium/templates/leaflet_heat.min.js&quot;&gt;&lt;/script&gt;\n",
       "&lt;/head&gt;\n",
       "&lt;body&gt;\n",
       "    \n",
       "    \n",
       "            &lt;div class=&quot;folium-map&quot; id=&quot;map_125e24c6dcc580744dfac57c0a886e6b&quot; &gt;&lt;/div&gt;\n",
       "        \n",
       "&lt;/body&gt;\n",
       "&lt;script&gt;\n",
       "    \n",
       "    \n",
       "            var map_125e24c6dcc580744dfac57c0a886e6b = L.map(\n",
       "                &quot;map_125e24c6dcc580744dfac57c0a886e6b&quot;,\n",
       "                {\n",
       "                    center: [33.9391, 67.71],\n",
       "                    crs: L.CRS.EPSG3857,\n",
       "                    ...{\n",
       "  &quot;zoom&quot;: 6,\n",
       "  &quot;zoomControl&quot;: true,\n",
       "  &quot;preferCanvas&quot;: false,\n",
       "}\n",
       "\n",
       "                }\n",
       "            );\n",
       "\n",
       "            \n",
       "\n",
       "        \n",
       "    \n",
       "            var tile_layer_75c17660176bb79869d43d6ec586ffeb = L.tileLayer(\n",
       "                &quot;https://tile.openstreetmap.org/{z}/{x}/{y}.png&quot;,\n",
       "                {\n",
       "  &quot;minZoom&quot;: 0,\n",
       "  &quot;maxZoom&quot;: 19,\n",
       "  &quot;maxNativeZoom&quot;: 19,\n",
       "  &quot;noWrap&quot;: false,\n",
       "  &quot;attribution&quot;: &quot;\\u0026copy; \\u003ca href=\\&quot;https://www.openstreetmap.org/copyright\\&quot;\\u003eOpenStreetMap\\u003c/a\\u003e contributors&quot;,\n",
       "  &quot;subdomains&quot;: &quot;abc&quot;,\n",
       "  &quot;detectRetina&quot;: false,\n",
       "  &quot;tms&quot;: false,\n",
       "  &quot;opacity&quot;: 1,\n",
       "}\n",
       "\n",
       "            );\n",
       "        \n",
       "    \n",
       "            tile_layer_75c17660176bb79869d43d6ec586ffeb.addTo(map_125e24c6dcc580744dfac57c0a886e6b);\n",
       "        \n",
       "    \n",
       "            var heat_map_f687c7339b5ff932537d027def3ec88f = L.heatLayer(\n",
       "                [[30.550198, 63.78606, 1.0], [30.959932, 61.86895, 1.0], [31.002735, 66.405617, 1.0], [31.544476, 65.484566, 1.0], [31.587778, 65.690278, 1.0], [31.60063, 64.369652, 1.0], [31.617667, 65.675942, 1.0], [31.631083, 65.742226, 2.0], [31.78801, 65.570785, 1.0], [32.073333, 64.833889, 1.0], [32.087172, 61.364736, 1.0], [32.946178, 69.176298, 1.0], [32.950912, 68.630974, 1.0], [33.188524, 68.736951, 1.0], [33.265051, 62.813123, 1.0], [33.319571, 68.451297, 1.0], [33.358508, 69.859741, 1.0], [33.539753, 69.731071, 1.0], [33.542622, 68.415329, 2.0], [33.598633, 69.228996, 1.0], [33.969167, 68.944722, 1.0], [34.001737, 69.210237, 1.0], [34.010835, 69.031021, 1.0], [34.035533, 70.574089, 1.0], [34.044527, 70.828014, 1.0], [34.176874, 61.700565, 1.0], [34.2, 70.283333, 1.0], [34.346722, 62.197315, 1.0], [34.516895, 69.147011, 2.0], [34.674866, 70.21344, 1.0], [34.689769, 70.145581, 1.0], [34.855556, 69.649444, 1.0], [34.875656, 71.152008, 1.0], [34.996412, 68.744765, 1.0], [35.018158, 69.168991, 1.0], [35.31711, 69.549264, 1.0], [35.617699, 69.468254, 1.0], [35.636695, 65.177283, 1.0], [35.725556, 63.789444, 1.0], [35.739928, 67.355242, 1.0], [35.862438, 64.554127, 1.0], [35.900577, 68.483215, 1.0], [35.919426, 66.459389, 1.0], [35.947552, 68.710327, 1.0], [35.953406, 66.424068, 1.0], [36.055654, 64.946467, 1.0], [36.217655, 65.933037, 1.0], [36.225304, 68.802216, 1.0], [36.266933, 68.019691, 1.0], [36.512218, 68.875984, 1.0], [36.58247, 69.997017, 1.0], [36.681551, 69.12168, 1.0], [36.694511, 68.801575, 2.0], [36.705776, 68.87706, 2.0], [36.716667, 69.516667, 1.0], [36.896969, 65.665857, 1.0], [36.954998, 65.125449, 1.0], [36.959546, 65.062989, 1.0], [36.985233, 69.379383, 1.0], [37.004408, 66.163062, 1.0], [37.037092, 69.176681, 1.0]],\n",
       "                {\n",
       "  &quot;minOpacity&quot;: 0.5,\n",
       "  &quot;maxZoom&quot;: 18,\n",
       "  &quot;radius&quot;: 25,\n",
       "  &quot;blur&quot;: 15,\n",
       "}\n",
       "            );\n",
       "        \n",
       "    \n",
       "            heat_map_f687c7339b5ff932537d027def3ec88f.addTo(map_125e24c6dcc580744dfac57c0a886e6b);\n",
       "        \n",
       "&lt;/script&gt;\n",
       "&lt;/html&gt;\" style=\"position:absolute;width:100%;height:100%;left:0;top:0;border:none !important;\" allowfullscreen webkitallowfullscreen mozallowfullscreen></iframe></div></div>"
      ],
      "text/plain": [
       "<folium.folium.Map at 0x12c9b9aca10>"
      ]
     },
     "execution_count": 30,
     "metadata": {},
     "output_type": "execute_result"
    }
   ],
   "source": [
    "map4"
   ]
  },
  {
   "cell_type": "markdown",
   "id": "21390ac2-5082-4400-8e5d-46ad2348e32c",
   "metadata": {},
   "source": [
    "<h2>CASUALTY ANALYSIS INSIGHT </h2>\n",
    "<h3>High-casualty assassinations in Afghanistan are concentrated in several distinct hotspots, with the most intense activity in Kandahar province in the south and across northeastern provinces bordering Pakistan. The distribution reveals a strategic pattern where assassination campaigns with multiple casualties occurred primarily in Taliban strongholds and along border regions, reflecting the insurgency's targeting of government officials and tribal leaders in these contested areas.</h3>"
   ]
  },
  {
   "cell_type": "markdown",
   "id": "22c7fcc2-08a8-4c06-bd7a-cc5ea4f9b338",
   "metadata": {},
   "source": [
    "<h1>ATTACK TYPE ANALYSIS</h1>\n"
   ]
  },
  {
   "cell_type": "markdown",
   "id": "6c1e1a93-13ea-4034-902b-46817190859d",
   "metadata": {},
   "source": [
    "<h1>FILTERING DATA</h1>"
   ]
  },
  {
   "cell_type": "code",
   "execution_count": 31,
   "id": "d65bdad0-18eb-4746-9375-c33c4871768b",
   "metadata": {},
   "outputs": [],
   "source": [
    "attack1 = df[df['attacktype1_txt'] == 'Assassination']\n",
    "attack2 = attack1[attack1['region_txt'] == 'Southeast Asia']"
   ]
  },
  {
   "cell_type": "markdown",
   "id": "e5e29d23-5cb6-4b7d-9efc-b47937f2434c",
   "metadata": {},
   "source": [
    "<h1>DATA AGGREGATION</h1>"
   ]
  },
  {
   "cell_type": "code",
   "execution_count": 32,
   "id": "9fff1df1-a2e4-4863-a321-e6de6d3795e0",
   "metadata": {},
   "outputs": [
    {
     "data": {
      "text/html": [
       "<div>\n",
       "<style scoped>\n",
       "    .dataframe tbody tr th:only-of-type {\n",
       "        vertical-align: middle;\n",
       "    }\n",
       "\n",
       "    .dataframe tbody tr th {\n",
       "        vertical-align: top;\n",
       "    }\n",
       "\n",
       "    .dataframe thead th {\n",
       "        text-align: right;\n",
       "    }\n",
       "</style>\n",
       "<table border=\"1\" class=\"dataframe\">\n",
       "  <thead>\n",
       "    <tr style=\"text-align: right;\">\n",
       "      <th></th>\n",
       "      <th>latitude</th>\n",
       "      <th>longitude</th>\n",
       "      <th>incident_count</th>\n",
       "    </tr>\n",
       "  </thead>\n",
       "  <tbody>\n",
       "    <tr>\n",
       "      <th>0</th>\n",
       "      <td>-8.857500</td>\n",
       "      <td>126.364722</td>\n",
       "      <td>1</td>\n",
       "    </tr>\n",
       "    <tr>\n",
       "      <th>1</th>\n",
       "      <td>-8.549660</td>\n",
       "      <td>125.566599</td>\n",
       "      <td>5</td>\n",
       "    </tr>\n",
       "    <tr>\n",
       "      <th>2</th>\n",
       "      <td>-8.466430</td>\n",
       "      <td>126.449704</td>\n",
       "      <td>1</td>\n",
       "    </tr>\n",
       "    <tr>\n",
       "      <th>3</th>\n",
       "      <td>-8.455218</td>\n",
       "      <td>118.727934</td>\n",
       "      <td>1</td>\n",
       "    </tr>\n",
       "    <tr>\n",
       "      <th>4</th>\n",
       "      <td>-8.454439</td>\n",
       "      <td>118.724642</td>\n",
       "      <td>1</td>\n",
       "    </tr>\n",
       "    <tr>\n",
       "      <th>...</th>\n",
       "      <td>...</td>\n",
       "      <td>...</td>\n",
       "      <td>...</td>\n",
       "    </tr>\n",
       "    <tr>\n",
       "      <th>877</th>\n",
       "      <td>20.824107</td>\n",
       "      <td>92.369022</td>\n",
       "      <td>1</td>\n",
       "    </tr>\n",
       "    <tr>\n",
       "      <th>878</th>\n",
       "      <td>21.669443</td>\n",
       "      <td>100.016389</td>\n",
       "      <td>1</td>\n",
       "    </tr>\n",
       "    <tr>\n",
       "      <th>879</th>\n",
       "      <td>22.922508</td>\n",
       "      <td>96.505953</td>\n",
       "      <td>1</td>\n",
       "    </tr>\n",
       "    <tr>\n",
       "      <th>880</th>\n",
       "      <td>25.612702</td>\n",
       "      <td>96.312496</td>\n",
       "      <td>1</td>\n",
       "    </tr>\n",
       "    <tr>\n",
       "      <th>881</th>\n",
       "      <td>45.420943</td>\n",
       "      <td>-75.698945</td>\n",
       "      <td>5</td>\n",
       "    </tr>\n",
       "  </tbody>\n",
       "</table>\n",
       "<p>882 rows × 3 columns</p>\n",
       "</div>"
      ],
      "text/plain": [
       "      latitude   longitude  incident_count\n",
       "0    -8.857500  126.364722               1\n",
       "1    -8.549660  125.566599               5\n",
       "2    -8.466430  126.449704               1\n",
       "3    -8.455218  118.727934               1\n",
       "4    -8.454439  118.724642               1\n",
       "..         ...         ...             ...\n",
       "877  20.824107   92.369022               1\n",
       "878  21.669443  100.016389               1\n",
       "879  22.922508   96.505953               1\n",
       "880  25.612702   96.312496               1\n",
       "881  45.420943  -75.698945               5\n",
       "\n",
       "[882 rows x 3 columns]"
      ]
     },
     "execution_count": 32,
     "metadata": {},
     "output_type": "execute_result"
    }
   ],
   "source": [
    "attack3 = attack2.groupby(['latitude','longitude']).size().reset_index(name='incident_count')\n",
    "attack3 "
   ]
  },
  {
   "cell_type": "markdown",
   "id": "98b97694-3dff-4c5b-b463-a4a4892e9fe2",
   "metadata": {},
   "source": [
    "<h1>Use of FOLIUM FOR GEOSPATIAL</h1>"
   ]
  },
  {
   "cell_type": "markdown",
   "id": "d666b3fa-6293-4a9d-a1f9-e21a9f73b33a",
   "metadata": {},
   "source": [
    "<h3> Converting Pandas Data Frame into Python List</h3>"
   ]
  },
  {
   "cell_type": "code",
   "execution_count": 33,
   "id": "29661ea5-bff1-48fb-ba5a-3bb76d6a7115",
   "metadata": {},
   "outputs": [],
   "source": [
    "attack3[\"normalize_data\"] = attack3['incident_count'] - attack3['incident_count'].min() / \\\n",
    "                                attack3['incident_count'].max() - attack3['incident_count']\n",
    "\n",
    "attack_heatmap = attack3[['latitude', 'longitude', 'incident_count']].values.tolist()"
   ]
  },
  {
   "cell_type": "markdown",
   "id": "23b9e5a8-25ad-4f88-a393-fdeea3958ff4",
   "metadata": {},
   "source": [
    "<h3> Creating a base map </h3>"
   ]
  },
  {
   "cell_type": "code",
   "execution_count": 34,
   "id": "e2835b26-66e9-4617-a2bb-aefbd6e51100",
   "metadata": {},
   "outputs": [],
   "source": [
    "map5 = folium.Map(location=[10.0, 105.0], zoom_start=4)"
   ]
  },
  {
   "cell_type": "markdown",
   "id": "2add82ce-9fdb-4755-ba4b-ba89029bf79d",
   "metadata": {},
   "source": [
    "<h3> Add Heatmap Layer </h3>"
   ]
  },
  {
   "cell_type": "code",
   "execution_count": 35,
   "id": "18b7f3c2-a4d5-42e6-8c05-9d533d48212c",
   "metadata": {},
   "outputs": [
    {
     "data": {
      "text/plain": [
       "<folium.plugins.heat_map.HeatMap at 0x12c9b9af3b0>"
      ]
     },
     "execution_count": 35,
     "metadata": {},
     "output_type": "execute_result"
    }
   ],
   "source": [
    "HeatMap(attack_heatmap).add_to(map5)"
   ]
  },
  {
   "cell_type": "code",
   "execution_count": 36,
   "id": "4410fca1-e344-489d-a939-182826a6c172",
   "metadata": {},
   "outputs": [
    {
     "data": {
      "text/html": [
       "<div style=\"width:100%;\"><div style=\"position:relative;width:100%;height:0;padding-bottom:60%;\"><span style=\"color:#565656\">Make this Notebook Trusted to load map: File -> Trust Notebook</span><iframe srcdoc=\"&lt;!DOCTYPE html&gt;\n",
       "&lt;html&gt;\n",
       "&lt;head&gt;\n",
       "    \n",
       "    &lt;meta http-equiv=&quot;content-type&quot; content=&quot;text/html; charset=UTF-8&quot; /&gt;\n",
       "    \n",
       "        &lt;script&gt;\n",
       "            L_NO_TOUCH = false;\n",
       "            L_DISABLE_3D = false;\n",
       "        &lt;/script&gt;\n",
       "    \n",
       "    &lt;style&gt;html, body {width: 100%;height: 100%;margin: 0;padding: 0;}&lt;/style&gt;\n",
       "    &lt;style&gt;#map {position:absolute;top:0;bottom:0;right:0;left:0;}&lt;/style&gt;\n",
       "    &lt;script src=&quot;https://cdn.jsdelivr.net/npm/leaflet@1.9.3/dist/leaflet.js&quot;&gt;&lt;/script&gt;\n",
       "    &lt;script src=&quot;https://code.jquery.com/jquery-3.7.1.min.js&quot;&gt;&lt;/script&gt;\n",
       "    &lt;script src=&quot;https://cdn.jsdelivr.net/npm/bootstrap@5.2.2/dist/js/bootstrap.bundle.min.js&quot;&gt;&lt;/script&gt;\n",
       "    &lt;script src=&quot;https://cdnjs.cloudflare.com/ajax/libs/Leaflet.awesome-markers/2.0.2/leaflet.awesome-markers.js&quot;&gt;&lt;/script&gt;\n",
       "    &lt;link rel=&quot;stylesheet&quot; href=&quot;https://cdn.jsdelivr.net/npm/leaflet@1.9.3/dist/leaflet.css&quot;/&gt;\n",
       "    &lt;link rel=&quot;stylesheet&quot; href=&quot;https://cdn.jsdelivr.net/npm/bootstrap@5.2.2/dist/css/bootstrap.min.css&quot;/&gt;\n",
       "    &lt;link rel=&quot;stylesheet&quot; href=&quot;https://netdna.bootstrapcdn.com/bootstrap/3.0.0/css/bootstrap-glyphicons.css&quot;/&gt;\n",
       "    &lt;link rel=&quot;stylesheet&quot; href=&quot;https://cdn.jsdelivr.net/npm/@fortawesome/fontawesome-free@6.2.0/css/all.min.css&quot;/&gt;\n",
       "    &lt;link rel=&quot;stylesheet&quot; href=&quot;https://cdnjs.cloudflare.com/ajax/libs/Leaflet.awesome-markers/2.0.2/leaflet.awesome-markers.css&quot;/&gt;\n",
       "    &lt;link rel=&quot;stylesheet&quot; href=&quot;https://cdn.jsdelivr.net/gh/python-visualization/folium/folium/templates/leaflet.awesome.rotate.min.css&quot;/&gt;\n",
       "    \n",
       "            &lt;meta name=&quot;viewport&quot; content=&quot;width=device-width,\n",
       "                initial-scale=1.0, maximum-scale=1.0, user-scalable=no&quot; /&gt;\n",
       "            &lt;style&gt;\n",
       "                #map_3ec020d6c2cf12f0f4ce91094884c8eb {\n",
       "                    position: relative;\n",
       "                    width: 100.0%;\n",
       "                    height: 100.0%;\n",
       "                    left: 0.0%;\n",
       "                    top: 0.0%;\n",
       "                }\n",
       "                .leaflet-container { font-size: 1rem; }\n",
       "            &lt;/style&gt;\n",
       "        \n",
       "    &lt;script src=&quot;https://cdn.jsdelivr.net/gh/python-visualization/folium@main/folium/templates/leaflet_heat.min.js&quot;&gt;&lt;/script&gt;\n",
       "&lt;/head&gt;\n",
       "&lt;body&gt;\n",
       "    \n",
       "    \n",
       "            &lt;div class=&quot;folium-map&quot; id=&quot;map_3ec020d6c2cf12f0f4ce91094884c8eb&quot; &gt;&lt;/div&gt;\n",
       "        \n",
       "&lt;/body&gt;\n",
       "&lt;script&gt;\n",
       "    \n",
       "    \n",
       "            var map_3ec020d6c2cf12f0f4ce91094884c8eb = L.map(\n",
       "                &quot;map_3ec020d6c2cf12f0f4ce91094884c8eb&quot;,\n",
       "                {\n",
       "                    center: [10.0, 105.0],\n",
       "                    crs: L.CRS.EPSG3857,\n",
       "                    ...{\n",
       "  &quot;zoom&quot;: 4,\n",
       "  &quot;zoomControl&quot;: true,\n",
       "  &quot;preferCanvas&quot;: false,\n",
       "}\n",
       "\n",
       "                }\n",
       "            );\n",
       "\n",
       "            \n",
       "\n",
       "        \n",
       "    \n",
       "            var tile_layer_ffa3873c6d3e275c73eea2fa8aedeb71 = L.tileLayer(\n",
       "                &quot;https://tile.openstreetmap.org/{z}/{x}/{y}.png&quot;,\n",
       "                {\n",
       "  &quot;minZoom&quot;: 0,\n",
       "  &quot;maxZoom&quot;: 19,\n",
       "  &quot;maxNativeZoom&quot;: 19,\n",
       "  &quot;noWrap&quot;: false,\n",
       "  &quot;attribution&quot;: &quot;\\u0026copy; \\u003ca href=\\&quot;https://www.openstreetmap.org/copyright\\&quot;\\u003eOpenStreetMap\\u003c/a\\u003e contributors&quot;,\n",
       "  &quot;subdomains&quot;: &quot;abc&quot;,\n",
       "  &quot;detectRetina&quot;: false,\n",
       "  &quot;tms&quot;: false,\n",
       "  &quot;opacity&quot;: 1,\n",
       "}\n",
       "\n",
       "            );\n",
       "        \n",
       "    \n",
       "            tile_layer_ffa3873c6d3e275c73eea2fa8aedeb71.addTo(map_3ec020d6c2cf12f0f4ce91094884c8eb);\n",
       "        \n",
       "    \n",
       "            var heat_map_1b3aa9446283953c5f73a54ef5b0f46c = L.heatLayer(\n",
       "                [[-8.8575, 126.364722, 1.0], [-8.54966, 125.566599, 5.0], [-8.46643, 126.449704, 1.0], [-8.455218, 118.727934, 1.0], [-8.454439, 118.724642, 1.0], [-7.797831, 110.37727, 1.0], [-6.908704, 107.610683, 1.0], [-6.319618, 106.756077, 1.0], [-6.208821, 106.846046, 3.0], [-6.205408, 106.84262, 1.0], [-5.133333, 119.416667, 1.0], [-2.528781, 140.713463, 1.0], [-1.40232, 120.758233, 1.0], [-1.393147, 120.754749, 1.0], [-0.898583, 119.850601, 1.0], [0.781083, 127.38132, 1.0], [1.27986, 103.848989, 1.0], [3.138943, 101.691315, 1.0], [4.57679, 113.98714, 1.0], [4.584472, 114.21344, 1.0], [4.707828, 96.732788, 2.0], [4.978633, 97.222142, 1.0], [5.031979, 119.772504, 1.0], [5.036097, 120.22696, 1.0], [5.108851, 97.578898, 1.0], [5.123772, 97.154388, 1.0], [5.187162, 120.017867, 1.0], [5.333189, 95.927669, 1.0], [5.474676, 95.246036, 1.0], [5.5212, 95.5531, 1.0], [5.541471, 95.342957, 4.0], [5.545248, 95.32401, 2.0], [5.697265, 125.289411, 1.0], [5.857693, 125.00422, 1.0], [5.969808, 125.286941, 1.0], [5.987041, 101.570281, 1.0], [5.993038, 101.966181, 1.0], [6.033436, 101.977419, 1.0], [6.050458, 121.012245, 4.0], [6.057088, 101.695444, 2.0], [6.060686, 124.495643, 1.0], [6.063022, 121.101819, 1.0], [6.06825, 124.487182, 1.0], [6.085224, 101.879166, 2.0], [6.098333, 101.693333, 1.0], [6.11622, 125.169395, 1.0], [6.117505, 124.462395, 1.0], [6.125094, 101.911987, 1.0], [6.127313, 101.91148, 1.0], [6.128787, 101.73506, 1.0], [6.154577, 101.890778, 1.0], [6.166706, 101.911987, 3.0], [6.177201, 101.509202, 1.0], [6.180501, 101.510615, 1.0], [6.190088, 101.797961, 6.0], [6.201532, 101.251838, 2.0], [6.202025, 101.252379, 4.0], [6.210408, 101.820757, 1.0], [6.211069, 101.508209, 1.0], [6.217814, 125.065915, 1.0], [6.218407, 125.069466, 1.0], [6.224521, 125.061266, 1.0], [6.226111, 101.206944, 1.0], [6.228538, 101.499199, 1.0], [6.242789, 101.297732, 3.0], [6.242799, 101.297732, 3.0], [6.254148, 101.729605, 2.0], [6.254153, 101.729605, 1.0], [6.258889, 102.055, 2.0], [6.265761, 101.263616, 1.0], [6.266288, 101.263372, 1.0], [6.267573, 101.263501, 1.0], [6.284839, 101.787164, 1.0], [6.296404, 101.728333, 1.0], [6.33141, 101.022226, 1.0], [6.334494, 101.866362, 1.0], [6.381892, 101.506227, 2.0], [6.384576, 101.502075, 1.0], [6.390629, 101.22971, 1.0], [6.39146, 101.517296, 1.0], [6.397222, 101.372295, 1.0], [6.403056, 101.706111, 1.0], [6.409722, 101.280414, 1.0], [6.41871, 121.972443, 1.0], [6.425461, 101.825314, 2.0], [6.451714, 101.10463, 1.0], [6.472241, 122.040186, 1.0], [6.477408, 101.135293, 1.0], [6.478305, 101.134887, 1.0], [6.481462, 101.132706, 1.0], [6.490159, 101.387535, 1.0], [6.491034, 101.388263, 1.0], [6.491822, 101.3885, 1.0], [6.497216, 122.105141, 1.0], [6.503827, 100.845147, 1.0], [6.50694, 124.419824, 1.0], [6.520001, 101.122055, 1.0], [6.521944, 124.89, 1.0], [6.525257, 122.184538, 1.0], [6.530828, 122.138972, 1.0], [6.537162, 122.163252, 1.0], [6.540136, 122.19189, 1.0], [6.541102, 101.280408, 1.0], [6.541147, 101.280395, 3.0], [6.5425, 101.283056, 1.0], [6.545499, 101.2799, 6.0], [6.550444, 122.106467, 1.0], [6.553665, 125.469901, 1.0], [6.556828, 121.883449, 1.0], [6.559167, 101.534167, 1.0], [6.570558, 122.029527, 1.0], [6.581675, 122.179507, 1.0], [6.587222, 125.1675, 1.0], [6.589055, 101.263716, 1.0], [6.600683, 125.399056, 1.0], [6.611512, 122.263054, 1.0], [6.6175, 101.425833, 1.0], [6.617694, 101.426521, 1.0], [6.620422, 101.46762, 1.0], [6.626886, 101.445272, 1.0], [6.627437, 101.45697, 1.0], [6.627778, 124.616389, 1.0], [6.634795, 124.605284, 1.0], [6.634973, 101.44797, 1.0], [6.637796, 124.599145, 1.0], [6.64416, 101.604401, 1.0], [6.644421, 122.273133, 1.0], [6.645308, 122.10184, 1.0], [6.650615, 101.553226, 1.0], [6.660501, 122.138992, 1.0], [6.681959, 121.985477, 1.0], [6.682308, 101.542496, 1.0], [6.687535, 124.825, 1.0], [6.687966, 124.678774, 1.0], [6.697343, 125.082779, 1.0], [6.697466, 121.984545, 1.0], [6.700403, 124.551895, 1.0], [6.700414, 121.972557, 3.0], [6.700685, 101.43398, 1.0], [6.700696, 101.433915, 6.0], [6.701389, 101.6175, 1.0], [6.702104, 124.741539, 3.0], [6.705487, 101.58483, 1.0], [6.716448, 101.601758, 1.0], [6.717959, 101.593027, 3.0], [6.719394, 101.412681, 1.0], [6.722259, 101.411205, 1.0], [6.729421, 101.095894, 1.0], [6.729505, 101.317079, 1.0], [6.730037, 101.303403, 1.0], [6.733057, 100.985202, 1.0], [6.737568, 101.218123, 1.0], [6.744295, 125.355626, 1.0], [6.750046, 125.35626, 4.0], [6.756299, 101.449966, 1.0], [6.756915, 125.352953, 1.0], [6.758547, 101.494838, 1.0], [6.759747, 101.293389, 1.0], [6.760263, 101.295165, 2.0], [6.760278, 101.293333, 1.0], [6.761831, 101.323255, 1.0], [6.772404, 101.292062, 1.0], [6.774536, 100.912508, 1.0], [6.779318, 100.913106, 1.0], [6.786967, 101.459678, 1.0], [6.79085, 125.205566, 1.0], [6.79738, 124.702754, 1.0], [6.804284, 101.502075, 1.0], [6.811968, 101.424606, 1.0], [6.818894, 101.309725, 1.0], [6.822825, 101.38284, 1.0], [6.823643, 101.127766, 1.0], [6.82613, 101.277923, 1.0], [6.826642, 124.755249, 1.0], [6.827061, 101.388394, 1.0], [6.82758, 101.235523, 1.0], [6.828057, 101.3885, 1.0], [6.831959, 124.878863, 1.0], [6.832257, 125.176656, 1.0], [6.832987, 124.458858, 1.0], [6.833801, 124.457502, 1.0], [6.835083, 124.182884, 1.0], [6.836912, 125.413349, 1.0], [6.839106, 101.334939, 1.0], [6.844444, 101.178611, 1.0], [6.846621, 101.269406, 1.0], [6.853994, 101.405528, 1.0], [6.854814, 124.144212, 1.0], [6.856384, 124.144478, 1.0], [6.862624, 101.485031, 1.0], [6.862806, 124.443649, 5.0], [6.866804, 124.466689, 1.0], [6.866924, 101.489832, 1.0], [6.867859, 101.252068, 2.0], [6.867985, 124.476389, 1.0], [6.86906, 101.251207, 1.0], [6.8694, 101.250519, 1.0], [6.869831, 124.137199, 1.0], [6.873826, 101.416287, 1.0], [6.874875, 124.895325, 1.0], [6.875088, 124.896398, 1.0], [6.876096, 101.259053, 1.0], [6.891121, 100.708119, 1.0], [6.893792, 122.167579, 1.0], [6.895545, 126.013997, 1.0], [6.917736, 124.328671, 1.0], [6.924467, 126.280793, 1.0], [6.929089, 122.07885, 21.0], [6.932714, 124.330915, 1.0], [6.936973, 126.184539, 1.0], [6.942258, 124.419824, 1.0], [6.951779, 125.097475, 1.0], [6.95706, 124.444287, 1.0], [6.958175, 124.398279, 1.0], [6.966173, 124.348699, 1.0], [6.97282, 124.630855, 1.0], [6.978004, 124.387397, 1.0], [6.997793, 125.079419, 1.0], [7.000163, 124.485801, 1.0], [7.000378, 124.705095, 1.0], [7.006906, 124.489635, 1.0], [7.01038, 124.161111, 1.0], [7.020898, 125.091469, 1.0], [7.024942, 124.498444, 1.0], [7.02556, 124.315, 4.0], [7.028003, 124.169332, 1.0], [7.029702, 124.500663, 1.0], [7.03147, 124.502671, 1.0], [7.0315, 124.375035, 1.0], [7.050475, 124.634024, 1.0], [7.052476, 124.675168, 1.0], [7.053599, 124.164783, 1.0], [7.057721, 124.676801, 1.0], [7.058094, 124.701556, 1.0], [7.058128, 124.616189, 1.0], [7.064167, 125.468611, 1.0], [7.083241, 125.600998, 16.0], [7.083333, 124.9, 1.0], [7.092595, 125.58175, 1.0], [7.099305, 125.418249, 1.0], [7.100174, 125.116732, 1.0], [7.104767, 122.195979, 1.0], [7.106342, 124.828162, 1.0], [7.108335, 125.038816, 1.0], [7.115414, 124.83668, 1.0], [7.116667, 124.816667, 1.0], [7.146435, 124.282297, 1.0], [7.153167, 124.22117, 1.0], [7.18056, 124.22556, 1.0], [7.183068, 124.517938, 1.0], [7.187706, 125.046388, 1.0], [7.189181, 124.532497, 1.0], [7.189766, 100.595381, 1.0], [7.190093, 124.535703, 1.0], [7.209594, 124.241966, 9.0], [7.213886, 125.117251, 1.0], [7.215279, 125.134798, 1.0], [7.229826, 124.482136, 1.0], [7.23922, 125.159295, 1.0], [7.239867, 125.160042, 1.0], [7.241531, 125.439825, 1.0], [7.262167, 126.156155, 1.0], [7.263032, 100.506248, 1.0], [7.269013, 125.197159, 1.0], [7.278525, 124.4242, 1.0], [7.293626, 122.0653, 1.0], [7.294219, 125.303395, 1.0], [7.307946, 125.684331, 1.0], [7.308063, 125.147324, 1.0], [7.314485, 125.450843, 1.0], [7.317214, 126.546543, 1.0], [7.330081, 124.56678, 1.0], [7.353278, 125.147836, 1.0], [7.353767, 125.147445, 1.0], [7.368979, 125.283236, 1.0], [7.374077, 124.266678, 1.0], [7.374294, 124.266625, 1.0], [7.447439, 125.802499, 1.0], [7.448145, 125.808826, 1.0], [7.448212, 125.809424, 1.0], [7.450919, 125.823565, 1.0], [7.451658, 123.314056, 1.0], [7.455071, 123.317013, 1.0], [7.459285, 125.804195, 1.0], [7.466835, 125.819815, 1.0], [7.476866, 122.861858, 1.0], [7.493008, 124.725605, 1.0], [7.501516, 122.366222, 1.0], [7.501849, 122.367499, 1.0], [7.51008, 124.371416, 2.0], [7.517704, 122.362862, 1.0], [7.528257, 123.365998, 1.0], [7.532133, 123.351363, 1.0], [7.53521, 122.360144, 1.0], [7.535447, 123.194732, 1.0], [7.541526, 122.377398, 1.0], [7.564468, 99.623908, 1.0], [7.580853, 125.765421, 1.0], [7.585136, 123.018956, 1.0], [7.59093, 99.634135, 1.0], [7.605385, 125.967704, 1.0], [7.608618, 125.66793, 1.0], [7.6246, 125.620494, 1.0], [7.629752, 123.031662, 1.0], [7.636646, 123.305852, 1.0], [7.64839, 123.267254, 1.0], [7.655049, 123.46249, 1.0], [7.655934, 123.461044, 1.0], [7.657793, 122.469359, 1.0], [7.69125, 125.964221, 1.0], [7.699061, 123.145032, 1.0], [7.700381, 126.011434, 1.0], [7.720472, 123.263289, 1.0], [7.724852, 124.23769, 1.0], [7.73, 125.099, 1.0], [7.740712, 123.076513, 1.0], [7.747538, 123.146464, 1.0], [7.784172, 122.583282, 1.0], [7.79139, 126.45333, 1.0], [7.81571, 123.283611, 1.0], [7.818905, 123.366468, 1.0], [7.823176, 124.419824, 1.0], [7.823759, 123.408437, 1.0], [7.825203, 123.437378, 10.0], [7.836523, 123.30451, 1.0], [7.839703, 123.434344, 2.0], [7.840063, 124.020195, 1.0], [7.844836, 123.462004, 1.0], [7.853864, 123.328167, 1.0], [7.863637, 123.513787, 1.0], [7.863889, 123.513889, 2.0], [7.864722, 123.376667, 1.0], [7.873019, 123.001223, 1.0], [7.887379, 124.388887, 1.0], [7.899722, 124.347394, 1.0], [7.902708, 125.522001, 1.0], [7.904959, 125.09111, 2.0], [7.90845, 98.3892, 1.0], [7.908736, 124.39745, 1.0], [7.92767, 126.075094, 1.0], [7.952584, 123.497927, 1.0], [7.978188, 124.222706, 1.0], [7.984834, 117.063256, 1.0], [7.996038, 125.008642, 1.0], [8.0, 124.2, 1.0], [8.001024, 124.294623, 1.0], [8.001172, 124.284462, 1.0], [8.002581, 124.292973, 1.0], [8.004674, 124.2913, 6.0], [8.030654, 123.311882, 1.0], [8.03949, 123.382276, 1.0], [8.04589, 126.063679, 1.0], [8.04912, 124.693724, 1.0], [8.055278, 122.443889, 1.0], [8.061865, 123.750771, 1.0], [8.063064, 122.573021, 1.0], [8.066793, 122.744837, 1.0], [8.070192, 122.929564, 1.0], [8.072742, 125.95542, 1.0], [8.091583, 125.321819, 1.0], [8.093981, 123.45102, 1.0], [8.094153, 123.451311, 1.0], [8.096466, 123.487682, 1.0], [8.104186, 123.494397, 1.0], [8.11406, 123.89685, 2.0], [8.115161, 122.669979, 1.0], [8.133333, 123.1, 2.0], [8.135081, 125.137957, 1.0], [8.141655, 123.339472, 1.0], [8.156152, 123.34587, 1.0], [8.15632, 123.346316, 1.0], [8.157809, 123.846756, 3.0], [8.163357, 125.129957, 2.0], [8.183063, 126.350176, 1.0], [8.183553, 126.349967, 1.0], [8.187, 125.853, 1.0], [8.205367, 123.801645, 1.0], [8.205395, 123.802652, 1.0], [8.226319, 124.255961, 1.0], [8.228173, 126.271709, 1.0], [8.240043, 124.244766, 9.0], [8.260319, 123.363939, 1.0], [8.261139, 125.609547, 1.0], [8.299322, 123.584592, 1.0], [8.299487, 98.766707, 1.0], [8.3061, 125.093932, 1.0], [8.306702, 124.259596, 1.0], [8.312309, 126.00867, 1.0], [8.360618, 126.016434, 1.0], [8.371276, 126.309401, 1.0], [8.385649, 99.506173, 1.0], [8.391111, 99.821944, 1.0], [8.392174, 98.451843, 1.0], [8.446729, 124.631033, 1.0], [8.484597, 124.643219, 1.0], [8.486481, 123.804648, 1.0], [8.487969, 124.650082, 1.0], [8.489579, 124.651478, 1.0], [8.497778, 123.269722, 1.0], [8.504375, 124.619205, 1.0], [8.509558, 124.650732, 1.0], [8.510029, 125.967587, 1.0], [8.51568, 123.25448, 1.0], [8.531386, 123.364368, 1.0], [8.574317, 124.443452, 1.0], [8.584932, 123.338499, 1.0], [8.6, 125.916667, 1.0], [8.607868, 125.91601, 1.0], [8.656259, 117.510498, 1.0], [8.713709, 125.722517, 1.0], [8.744024, 124.776528, 1.0], [8.745833, 123.222222, 1.0], [8.769267, 99.145615, 1.0], [8.800278, 99.363611, 1.0], [8.802481, 126.300943, 1.0], [8.810264, 125.525615, 1.0], [8.818752, 125.103207, 1.0], [8.834907, 125.210759, 1.0], [8.859709, 124.788662, 1.0], [8.91861, 126.30111, 1.0], [8.943034, 125.534801, 1.0], [8.948247, 125.541107, 1.0], [8.952956, 125.54746, 1.0], [8.963333, 126.278056, 1.0], [8.966092, 125.762524, 1.0], [8.968959, 125.336637, 1.0], [8.97149, 125.351822, 1.0], [8.985095, 124.79353, 1.0], [9.069468, 126.20339, 1.0], [9.079628, 126.19874, 1.0], [9.08362, 125.606296, 1.0], [9.12154, 125.538397, 1.0], [9.133885, 99.326698, 1.0], [9.139722, 125.559722, 1.0], [9.1584, 123.4996, 1.0], [9.199524, 123.586377, 1.0], [9.227189, 125.94085, 1.0], [9.241435, 125.558812, 1.0], [9.280007, 123.245453, 1.0], [9.294633, 123.278843, 1.0], [9.531381, 125.481945, 1.0], [9.599928, 125.633548, 1.0], [9.618367, 125.401583, 1.0], [9.639358, 123.855562, 1.0], [9.648444, 125.598609, 1.0], [9.723134, 99.112072, 1.0], [9.733738, 122.928037, 1.0], [9.735518, 125.519222, 1.0], [9.737212, 118.739699, 1.0], [9.756393, 123.972749, 1.0], [9.757207, 125.513844, 1.0], [9.78472, 125.489693, 2.0], [9.788011, 125.492662, 1.0], [9.831149, 122.753447, 1.0], [9.873573, 124.245313, 1.0], [9.944705, 123.960034, 1.0], [9.96428, 124.20941, 1.0], [9.982494, 122.736874, 1.0], [10.004693, 122.777142, 1.0], [10.050204, 123.191372, 1.0], [10.050592, 123.433204, 1.0], [10.057497, 123.436951, 1.0], [10.085461, 123.596519, 1.0], [10.115545, 123.26972, 1.0], [10.117858, 123.224263, 1.0], [10.118769, 123.2704, 1.0], [10.12085, 123.273881, 1.0], [10.129501, 123.239133, 1.0], [10.201146, 122.983157, 1.0], [10.24875, 123.842083, 1.0], [10.295334, 123.87825, 9.0], [10.315699, 123.885437, 1.0], [10.316945, 123.283876, 1.0], [10.372086, 122.8682, 1.0], [10.386317, 123.22612, 1.0], [10.517436, 122.803563, 1.0], [10.518937, 123.03455, 1.0], [10.532904, 122.836652, 1.0], [10.565506, 123.081714, 1.0], [10.607992, 123.885775, 1.0], [10.638733, 124.31092, 1.0], [10.663841, 122.590683, 1.0], [10.664151, 122.993317, 1.0], [10.66925, 122.949054, 5.0], [10.694922, 122.542541, 1.0], [10.69649, 122.564451, 2.0], [10.714915, 122.565695, 2.0], [10.723932, 122.456193, 1.0], [10.724419, 122.455092, 1.0], [10.725533, 122.55248, 1.0], [10.727751, 122.557615, 1.0], [10.728566, 124.008363, 1.0], [10.728829, 123.82764, 1.0], [10.737698, 122.969069, 1.0], [10.739211, 123.444614, 1.0], [10.779355, 123.488764, 1.0], [10.82926, 106.633072, 1.0], [10.841239, 123.499231, 1.0], [10.862454, 124.88112, 1.0], [10.902124, 123.071524, 1.0], [11.016887, 124.600609, 2.0], [11.03465, 125.733197, 1.0], [11.158063, 124.990945, 1.0], [11.169659, 124.853559, 1.0], [11.213475, 124.393597, 1.0], [11.263605, 122.688646, 2.0], [11.266584, 122.683342, 1.0], [11.422087, 122.665934, 1.0], [11.485114, 105.328098, 1.0], [11.501172, 125.501514, 1.0], [11.556374, 104.92821, 1.0], [11.558831, 104.917445, 17.0], [11.586558, 122.753716, 1.0], [11.5901, 122.0945, 1.0], [11.608309, 125.433941, 1.0], [11.650319, 122.29994, 1.0], [11.670839, 104.949472, 1.0], [11.701254, 122.363766, 1.0], [11.775031, 124.883423, 1.0], [11.775536, 124.88573, 1.0], [11.776236, 124.884694, 1.0], [11.778017, 124.882222, 1.0], [11.789409, 124.896312, 1.0], [11.846274, 125.126754, 1.0], [11.868264, 123.914873, 1.0], [11.876926, 123.911533, 1.0], [11.935867, 123.772197, 1.0], [11.952089, 124.833596, 1.0], [11.969444, 123.190556, 1.0], [11.99141, 105.465401, 2.0], [12.016832, 124.816499, 1.0], [12.026849, 123.693881, 1.0], [12.033378, 123.200461, 1.0], [12.038922, 123.194007, 1.0], [12.055794, 123.72942, 1.0], [12.066239, 124.601141, 1.0], [12.066667, 124.6, 1.0], [12.0668, 124.5962, 1.0], [12.06994, 124.600304, 1.0], [12.08143, 124.586762, 1.0], [12.147222, 124.4525, 1.0], [12.148001, 124.880109, 1.0], [12.15218, 123.598999, 1.0], [12.168163, 123.774045, 1.0], [12.192222, 123.890278, 1.0], [12.198764, 124.612856, 1.0], [12.268195, 125.369489, 1.0], [12.275431, 123.447619, 1.0], [12.333827, 121.34998, 1.0], [12.3377, 123.659103, 1.0], [12.349039, 123.571724, 1.0], [12.35275, 121.06761, 1.0], [12.358783, 122.685699, 1.0], [12.367627, 123.621646, 1.0], [12.367922, 123.620761, 3.0], [12.369767, 123.626846, 1.0], [12.379446, 123.608517, 1.0], [12.418418, 121.285525, 1.0], [12.503525, 124.637103, 1.0], [12.562855, 124.933601, 1.0], [12.598719, 121.483554, 1.0], [12.611713, 124.055114, 1.0], [12.702948, 124.034123, 1.0], [12.708158, 123.894143, 1.0], [12.716728, 121.382804, 1.0], [12.752498, 123.933722, 1.0], [12.850382, 124.071133, 1.0], [12.910675, 123.594594, 1.0], [12.921375, 124.122678, 1.0], [12.943154, 124.06971, 1.0], [12.945101, 100.904637, 1.0], [12.970187, 124.004177, 1.0], [12.99271, 124.014746, 1.0], [13.025418, 124.028392, 1.0], [13.056153, 99.915774, 1.0], [13.1, 103.2, 2.0], [13.116889, 123.468448, 1.0], [13.165139, 123.638555, 1.0], [13.186049, 123.540123, 1.0], [13.192288, 123.59917, 1.0], [13.200159, 101.249071, 1.0], [13.240874, 123.537612, 1.0], [13.318923, 123.314933, 1.0], [13.377053, 121.164924, 1.0], [13.377094, 121.164571, 1.0], [13.413213, 121.175236, 1.0], [13.432636, 123.413066, 1.0], [13.487805, 120.957922, 1.0], [13.545801, 101.611769, 1.0], [13.560981, 123.374843, 2.0], [13.563607, 100.211582, 1.0], [13.575934, 124.21144, 1.0], [13.583886, 123.059763, 1.0], [13.621255, 123.200351, 1.0], [13.6391, 123.280549, 1.0], [13.64286, 123.086628, 1.0], [13.709994, 124.24216, 1.0], [13.718009, 123.235076, 1.0], [13.727896, 100.524124, 1.0], [13.736502, 121.198171, 1.0], [13.746572, 121.056555, 1.0], [13.7476, 120.941164, 1.0], [13.750444, 121.377034, 1.0], [13.755857, 121.226651, 1.0], [13.756465, 121.058308, 1.0], [13.7576, 121.058325, 2.0], [13.761824, 121.365794, 1.0], [13.765063, 121.057949, 1.0], [13.767671, 122.976515, 1.0], [13.773793, 121.166934, 1.0], [13.785793, 100.560852, 10.0], [13.792202, 121.008557, 1.0], [13.794381, 120.998433, 1.0], [13.796261, 121.067005, 1.0], [13.820728, 122.791793, 1.0], [13.825022, 100.294225, 1.0], [13.827553, 122.924037, 1.0], [13.82895, 121.39421, 1.0], [13.835663, 120.64927, 1.0], [13.860844, 103.499144, 1.0], [13.871901, 120.709128, 1.0], [13.879552, 121.095134, 1.0], [13.895982, 124.150205, 1.0], [13.90428, 123.370069, 1.0], [13.911581, 120.850705, 1.0], [13.921011, 121.423063, 1.0], [13.930722, 120.834866, 1.0], [13.931052, 121.617683, 1.0], [13.938569, 121.612011, 1.0], [13.941876, 121.16442, 1.0], [13.94239, 121.164299, 1.0], [13.95694, 121.57083, 1.0], [13.962909, 121.526711, 1.0], [13.968734, 120.79308, 1.0], [13.985557, 121.328429, 1.0], [13.989359, 121.089448, 1.0], [14.003391, 100.66471, 1.0], [14.017274, 121.401844, 1.0], [14.02711, 121.203967, 1.0], [14.042333, 121.289039, 1.0], [14.049884, 120.903593, 1.0], [14.05097, 101.372744, 1.0], [14.052228, 120.933138, 1.0], [14.063056, 121.248056, 1.0], [14.064211, 121.323337, 1.0], [14.067115, 121.156405, 1.0], [14.068628, 121.160831, 1.0], [14.074055, 120.664674, 1.0], [14.074255, 121.193351, 1.0], [14.08224, 121.18583, 1.0], [14.090019, 121.175173, 1.0], [14.093031, 121.021206, 1.0], [14.105629, 121.140691, 1.0], [14.115558, 122.956465, 1.0], [14.117494, 121.302239, 1.0], [14.201882, 121.137636, 1.0], [14.214737, 121.149886, 1.0], [14.23327, 104.083257, 1.0], [14.254587, 122.834917, 1.0], [14.274054, 122.673597, 1.0], [14.28114, 120.849551, 1.0], [14.283596, 121.418635, 2.0], [14.294114, 121.070844, 1.0], [14.296389, 120.99, 1.0], [14.301147, 121.111935, 1.0], [14.33, 121.08, 1.0], [14.333568, 120.957515, 1.0], [14.343387, 121.066591, 1.0], [14.390117, 120.856354, 1.0], [14.394605, 120.965183, 1.0], [14.401977, 121.032784, 1.0], [14.420209, 120.939674, 1.0], [14.421794, 120.910174, 1.0], [14.43, 120.48, 1.0], [14.441139, 120.901564, 1.0], [14.445994, 121.453113, 1.0], [14.450306, 120.950018, 1.0], [14.459238, 120.929034, 1.0], [14.465, 120.959167, 1.0], [14.47913, 120.896963, 1.0], [14.483853, 121.014503, 2.0], [14.484249, 120.899584, 1.0], [14.504685, 100.614025, 1.0], [14.514697, 121.066055, 2.0], [14.530948, 121.004257, 1.0], [14.549431, 121.033592, 3.0], [14.58251, 121.084236, 3.0], [14.584232, 121.03904, 3.0], [14.586433, 121.159261, 1.0], [14.590272, 121.19379, 1.0], [14.596051, 120.978666, 126.0], [14.599352, 120.984772, 13.0], [14.602955, 121.033813, 1.0], [14.605881, 121.300359, 1.0], [14.625483, 121.124485, 1.0], [14.629164, 101.025928, 1.0], [14.647183, 121.103012, 1.0], [14.661927, 120.957105, 1.0], [14.672042, 120.957726, 2.0], [14.67428, 121.057495, 19.0], [14.679084, 120.539549, 5.0], [14.694419, 120.538736, 1.0], [14.704171, 120.982384, 1.0], [14.7166, 120.301567, 1.0], [14.724493, 121.03331, 3.0], [14.771731, 121.3387, 1.0], [14.799401, 120.926037, 1.0], [14.800875, 120.536954, 1.0], [14.813849, 121.045151, 1.0], [14.831034, 120.789448, 1.0], [14.838794, 120.285018, 2.0], [14.853807, 120.818175, 1.0], [14.882905, 103.493711, 1.0], [14.907244, 120.717412, 1.0], [14.908056, 120.715556, 1.0], [14.938427, 120.927704, 1.0], [14.953046, 120.768174, 1.0], [14.965546, 120.632488, 1.0], [15.000427, 120.652479, 1.0], [15.001739, 120.899087, 1.0], [15.009553, 120.936852, 1.0], [15.049423, 121.045185, 1.0], [15.052222, 120.938056, 1.0], [15.06293, 120.657602, 1.0], [15.065238, 120.720051, 1.0], [15.071862, 120.076634, 1.0], [15.072079, 120.541944, 1.0], [15.13405, 120.969389, 1.0], [15.153002, 120.591942, 20.0], [15.165059, 120.780373, 1.0], [15.182826, 120.794612, 1.0], [15.222743, 120.572886, 4.0], [15.235298, 120.822297, 1.0], [15.246916, 120.854369, 1.0], [15.249382, 120.8499, 1.0], [15.252449, 120.951552, 1.0], [15.260556, 120.971944, 1.0], [15.304144, 120.932707, 1.0], [15.31167, 120.961818, 1.0], [15.325997, 119.980529, 2.0], [15.326617, 120.58956, 1.0], [15.330238, 119.974311, 1.0], [15.332065, 119.979541, 1.0], [15.332693, 120.590212, 2.0], [15.336284, 119.972555, 1.0], [15.352905, 121.001985, 1.0], [15.353113, 121.01668, 1.0], [15.362739, 120.883802, 1.0], [15.366667, 120.966667, 1.0], [15.394873, 120.923767, 1.0], [15.42939, 121.350403, 1.0], [15.476183, 120.960686, 5.0], [15.478598, 120.599741, 2.0], [15.481284, 120.596634, 1.0], [15.487124, 121.032256, 1.0], [15.543446, 120.595889, 1.0], [15.543534, 121.085281, 1.0], [15.550052, 120.815982, 1.0], [15.583012, 121.183973, 1.0], [15.589097, 121.099102, 1.0], [15.592462, 120.904995, 1.0], [15.604504, 121.078307, 1.0], [15.613192, 120.915678, 1.0], [15.631174, 121.145, 1.0], [15.655747, 120.771032, 1.0], [15.690389, 120.419097, 1.0], [15.690683, 120.987632, 2.0], [15.698738, 100.11996, 1.0], [15.735978, 120.573707, 1.0], [15.808517, 121.146091, 1.0], [15.821477, 120.329137, 1.0], [15.833346, 120.200196, 1.0], [15.842942, 120.637421, 1.0], [15.901264, 120.587221, 1.0], [15.916432, 120.184829, 1.0], [15.9201, 120.414, 1.0], [15.940533, 120.203291, 1.0], [15.993004, 120.431352, 1.0], [15.999064, 120.953212, 1.0], [16.005906, 120.233149, 1.0], [16.009477, 120.411097, 1.0], [16.0274, 120.7434, 1.0], [16.029468, 120.473846, 1.0], [16.030344, 120.229921, 1.0], [16.067341, 120.667999, 1.0], [16.070387, 120.764955, 1.0], [16.110705, 120.545466, 1.0], [16.18694, 119.85917, 1.0], [16.22991, 120.486845, 1.0], [16.3167, 121.2965, 1.0], [16.325, 120.368611, 1.0], [16.327503, 120.364365, 1.0], [16.391184, 121.107312, 1.0], [16.422119, 121.509998, 1.0], [16.433973, 98.781343, 1.0], [16.442952, 100.348233, 1.0], [16.468801, 121.23677, 1.0], [16.483333, 121.15, 1.0], [16.517954, 121.181498, 1.0], [16.543576, 121.849185, 1.0], [16.566159, 121.761032, 1.0], [16.572529, 120.420713, 1.0], [16.581926, 121.787521, 2.0], [16.60678, 121.253636, 1.0], [16.678336, 121.6614, 1.0], [16.729937, 120.368592, 1.0], [16.75, 121.75, 1.0], [16.756327, 121.749039, 1.0], [16.771234, 121.098672, 1.0], [16.779757, 121.694821, 1.0], [16.865874, 121.936679, 1.0], [16.879671, 121.016035, 1.0], [16.883475, 120.97472, 1.0], [16.887781, 96.149559, 2.0], [16.902826, 121.956727, 1.0], [16.983333, 122.016667, 1.0], [16.985272, 121.931243, 1.0], [17.000813, 121.825905, 1.0], [17.032997, 121.798605, 1.0], [17.058685, 121.616074, 1.0], [17.091122, 120.978527, 1.0], [17.194535, 120.448809, 1.0], [17.227866, 120.573958, 1.0], [17.252275, 120.440937, 1.0], [17.408355, 120.476747, 1.0], [17.42802, 120.460246, 1.0], [17.458662, 121.795604, 1.0], [17.461508, 121.794348, 2.0], [17.555726, 120.838718, 3.0], [17.56491, 120.651829, 1.0], [17.576667, 120.641999, 1.0], [17.599649, 120.616913, 3.0], [17.606506, 120.630804, 1.0], [17.610807, 121.73237, 1.0], [17.611375, 121.726748, 1.0], [17.617008, 121.725162, 1.0], [17.620879, 121.726148, 1.0], [17.627693, 121.717033, 1.0], [17.629363, 120.938496, 1.0], [17.655964, 121.752737, 1.0], [17.680918, 120.731506, 1.0], [17.68098, 120.42448, 1.0], [17.699765, 120.695704, 1.0], [17.720387, 120.705966, 1.0], [17.725159, 97.735819, 1.0], [17.792192, 120.455709, 1.0], [17.835788, 121.72385, 2.0], [17.842246, 121.390126, 1.0], [17.92931, 120.470001, 1.0], [17.933332, 120.466667, 1.0], [17.937248, 120.640965, 1.0], [17.95476, 121.927803, 1.0], [17.982719, 120.650597, 1.0], [18.05, 120.683333, 1.0], [18.060094, 120.531929, 1.0], [18.166667, 120.65, 1.0], [18.195807, 120.592272, 1.0], [18.196832, 120.598896, 1.0], [18.202179, 121.560516, 1.0], [18.246111, 121.791111, 1.0], [18.259177, 121.997309, 1.0], [18.261509, 121.996975, 1.0], [18.287835, 121.831276, 1.0], [18.332644, 120.617308, 1.0], [18.343511, 120.677042, 1.0], [18.464211, 121.34067, 1.0], [18.467402, 120.899587, 1.0], [18.511551, 120.644088, 1.0], [18.56163, 121.23189, 1.0], [18.561633, 120.787087, 1.0], [18.790977, 98.960776, 1.0], [18.871067, 97.308766, 1.0], [19.01593, 93.891012, 1.0], [19.479993, 93.955584, 1.0], [19.793467, 93.993765, 1.0], [20.147602, 92.895952, 1.0], [20.823738, 92.370789, 1.0], [20.824107, 92.369022, 1.0], [21.669443, 100.016389, 1.0], [22.922508, 96.505953, 1.0], [25.612702, 96.312496, 1.0], [45.420943, -75.698945, 5.0]],\n",
       "                {\n",
       "  &quot;minOpacity&quot;: 0.5,\n",
       "  &quot;maxZoom&quot;: 18,\n",
       "  &quot;radius&quot;: 25,\n",
       "  &quot;blur&quot;: 15,\n",
       "}\n",
       "            );\n",
       "        \n",
       "    \n",
       "            heat_map_1b3aa9446283953c5f73a54ef5b0f46c.addTo(map_3ec020d6c2cf12f0f4ce91094884c8eb);\n",
       "        \n",
       "&lt;/script&gt;\n",
       "&lt;/html&gt;\" style=\"position:absolute;width:100%;height:100%;left:0;top:0;border:none !important;\" allowfullscreen webkitallowfullscreen mozallowfullscreen></iframe></div></div>"
      ],
      "text/plain": [
       "<folium.folium.Map at 0x12c9b9aec00>"
      ]
     },
     "execution_count": 36,
     "metadata": {},
     "output_type": "execute_result"
    }
   ],
   "source": [
    "map5"
   ]
  },
  {
   "cell_type": "markdown",
   "id": "7043d068-dd62-49eb-92c3-ff5763f60d56",
   "metadata": {},
   "source": [
    "<h2>ATTACK TYPE ANALYSIS INSIGHT </h2>\n",
    "<H3>Assassination incidents in Southeast Asia show intense concentration in the Philippines, particularly in the central and southern regions, with another major hotspot spanning central and southern Thailand into northern Malaysia. Secondary hotspots appear in northern Vietnam near the Chinese border and eastern Indonesia, reflecting regional conflicts where targeted killings have been tactical choices in insurgencies, separatist movements, and political violence across the region.</H3>"
   ]
  }
 ],
 "metadata": {
  "kernelspec": {
   "display_name": "Python 3 (ipykernel)",
   "language": "python",
   "name": "python3"
  },
  "language_info": {
   "codemirror_mode": {
    "name": "ipython",
    "version": 3
   },
   "file_extension": ".py",
   "mimetype": "text/x-python",
   "name": "python",
   "nbconvert_exporter": "python",
   "pygments_lexer": "ipython3",
   "version": "3.12.4"
  }
 },
 "nbformat": 4,
 "nbformat_minor": 5
}
